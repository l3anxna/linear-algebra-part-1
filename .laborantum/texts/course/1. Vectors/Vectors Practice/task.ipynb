{
    "cells": [
        {
            "cell_type": "markdown",
            "metadata": {},
            "source": [
                "# Vectors Practice"
            ]
        },
        {
            "cell_type": "markdown",
            "metadata": {},
            "source": [
                "In this chapter we will work with vectors and code Gramm-Schmidt Orthonormalization Algorithm"
            ]
        },
        {
            "cell_type": "code",
            "execution_count": null,
            "metadata": {},
            "outputs": [],
            "source": [
                "import numpy as np\n",
                "import matplotlib.pyplot as plt\n",
                "import lovely_numpy as ln\n",
                "import json_tricks\n",
                "\n"
            ]
        },
        {
            "cell_type": "code",
            "execution_count": null,
            "metadata": {},
            "outputs": [
                {
                    "ename": "FileNotFoundError",
                    "evalue": "[Errno 2] No such file or directory: '.inputs.json'",
                    "output_type": "error",
                    "traceback": [
                        "\u001b[31m---------------------------------------------------------------------------\u001b[39m",
                        "\u001b[31mFileNotFoundError\u001b[39m                         Traceback (most recent call last)",
                        "\u001b[36mCell\u001b[39m\u001b[36m \u001b[39m\u001b[32mIn[4]\u001b[39m\u001b[32m, line 1\u001b[39m\n\u001b[32m----> \u001b[39m\u001b[32m1\u001b[39m inputs = \u001b[43mjson_tricks\u001b[49m\u001b[43m.\u001b[49m\u001b[43mload\u001b[49m\u001b[43m(\u001b[49m\u001b[33;43m'\u001b[39;49m\u001b[33;43m.inputs.json\u001b[39;49m\u001b[33;43m'\u001b[39;49m\u001b[43m)\u001b[49m\n\u001b[32m      2\u001b[39m inputs1 = json_tricks.load(\u001b[33m'\u001b[39m\u001b[33m.inputs2.json\u001b[39m\u001b[33m'\u001b[39m)\n\u001b[32m      4\u001b[39m answers = {}\n",
                        "\u001b[36mFile \u001b[39m\u001b[32m/usr/local/lib/python3.11/site-packages/json_tricks/nonp.py:284\u001b[39m, in \u001b[36mload\u001b[39m\u001b[34m(fp, preserve_order, ignore_comments, decompression, obj_pairs_hooks, extra_obj_pairs_hooks, cls_lookup_map, allow_duplicates, conv_str_byte, properties, **jsonkwargs)\u001b[39m\n\u001b[32m    282\u001b[39m \topen_binary = \u001b[38;5;28mbool\u001b[39m(decompression)\n\u001b[32m    283\u001b[39m \u001b[38;5;28;01melse\u001b[39;00m:\n\u001b[32m--> \u001b[39m\u001b[32m284\u001b[39m \t\u001b[38;5;28;01mwith\u001b[39;00m \u001b[38;5;28;43mopen\u001b[39;49m\u001b[43m(\u001b[49m\u001b[43mfp\u001b[49m\u001b[43m,\u001b[49m\u001b[43m \u001b[49m\u001b[33;43m'\u001b[39;49m\u001b[33;43mrb\u001b[39;49m\u001b[33;43m'\u001b[39;49m\u001b[43m)\u001b[49m \u001b[38;5;28;01mas\u001b[39;00m fh:\n\u001b[32m    285\u001b[39m \t\t\u001b[38;5;66;03m# This attempts to detect gzip mode; gzip should always\u001b[39;00m\n\u001b[32m    286\u001b[39m \t\t\u001b[38;5;66;03m# have this header, and text json can't have it.\u001b[39;00m\n\u001b[32m    287\u001b[39m \t\topen_binary = (fh.read(\u001b[32m2\u001b[39m) == \u001b[33mb\u001b[39m\u001b[33m'\u001b[39m\u001b[38;5;130;01m\\x1f\u001b[39;00m\u001b[38;5;130;01m\\x8b\u001b[39;00m\u001b[33m'\u001b[39m)\n\u001b[32m    288\u001b[39m \u001b[38;5;28;01mwith\u001b[39;00m \u001b[38;5;28mopen\u001b[39m(fp, \u001b[33m'\u001b[39m\u001b[33mrb\u001b[39m\u001b[33m'\u001b[39m \u001b[38;5;28;01mif\u001b[39;00m open_binary \u001b[38;5;28;01melse\u001b[39;00m \u001b[33m'\u001b[39m\u001b[33mr\u001b[39m\u001b[33m'\u001b[39m) \u001b[38;5;28;01mas\u001b[39;00m fh:\n",
                        "\u001b[31mFileNotFoundError\u001b[39m: [Errno 2] No such file or directory: '.inputs.json'"
                    ]
                }
            ],
            "source": [
                "inputs = json_tricks.load('inputs.json')\n",
                "inputs1 = json_tricks.load('inputs2.json')\n",
                "\n",
                "answers = {}"
            ]
        },
        {
            "cell_type": "markdown",
            "metadata": {},
            "source": [
                "In your input you have arrys of shape $N \\times 2$, which means that you have 2 vectors both having N coordinates"
            ]
        },
        {
            "cell_type": "code",
            "execution_count": null,
            "metadata": {},
            "outputs": [],
            "source": [
                "for one_input in inputs:\n",
                "    print(one_input)\n",
                "    print(ln.lovely(one_input['X']))"
            ]
        },
        {
            "cell_type": "markdown",
            "metadata": {},
            "source": [
                "# Task 1. Vector lenghts\n",
                "\n",
                "- Write a function that calculates vector lengths, answer should return array of shape $2$\n",
                "- Apply this function to all the inputs"
            ]
        },
        {
            "cell_type": "code",
            "execution_count": null,
            "metadata": {},
            "outputs": [],
            "source": [
                "def get_lengths(X):\n",
                "    res = np.sqrt(np.sum(X**2, axis=0))\n",
                "    return res"
            ]
        },
        {
            "cell_type": "code",
            "execution_count": null,
            "metadata": {},
            "outputs": [],
            "source": [
                "answers['lengths'] = [\n",
                "    get_lengths(**inp) for inp in inputs\n",
                "]"
            ]
        },
        {
            "cell_type": "markdown",
            "metadata": {},
            "source": [
                "# Task 2. Vector directions\n",
                "\n",
                "- Write a function that calculates vector directions. Result should be of the same shape as the original array X\n",
                "- Use $10^{-8}$ addition in division to avoid division by zero\n",
                "- Apply this function to all arrays in the inputs"
            ]
        },
        {
            "cell_type": "code",
            "execution_count": null,
            "metadata": {},
            "outputs": [],
            "source": [
                "def get_directions(X):\n",
                "    lengths = np.sqrt(np.sum(X**2, axis=0))\n",
                "    res = X / lengths\n",
                "    return res"
            ]
        },
        {
            "cell_type": "code",
            "execution_count": null,
            "metadata": {},
            "outputs": [],
            "source": [
                "answers['directions'] = [\n",
                "    get_directions(**inp) for inp in inputs\n",
                "]"
            ]
        },
        {
            "cell_type": "markdown",
            "metadata": {},
            "source": [
                "# Step 3. Visualization\n",
                "\n",
                "We will visualize vectors and directions using `matplotlib` "
            ]
        },
        {
            "cell_type": "code",
            "execution_count": null,
            "metadata": {},
            "outputs": [],
            "source": [
                "import numpy as np\n",
                "import matplotlib.pyplot as plt\n",
                "\n",
                "plt.figure(figsize=(10, 10))\n",
                "ax = plt.gca()\n",
                "X = inputs[0]['X']\n",
                "vecs = np.concatenate([np.zeros_like(X), X.T], axis=1)\n",
                "X, Y, U, V = zip(*vecs)\n",
                "\n",
                "print(X, Y, U, V)\n",
                "\n",
                "ax.quiver(X, Y, U, V, angles='xy', scale_units='xy', scale=1, color = 'red')\n",
                "\n",
                "X = answers['directions'][0] * 2\n",
                "norms = np.concatenate([np.zeros_like(X), X.T], axis=1)\n",
                "X, Y, U, V = zip(*norms)\n",
                "\n",
                "print(X, Y, U, V)\n",
                "ax.quiver(X, Y, U, V, angles='xy', scale_units='xy', scale=1, color = 'blue')\n",
                "ax.set_xlim([-10, 10])\n",
                "ax.set_ylim([-10, 10])\n",
                "plt.draw()\n",
                "plt.grid()\n",
                "plt.legend(['original', 'normalized'])\n",
                "plt.show()\n"
            ]
        },
        {
            "cell_type": "markdown",
            "metadata": {},
            "source": [
                "# Task 4. Scalar Product\n",
                "\n",
                "Write a function that calculates\n",
                "- cosine distance between the vectors\n",
                "- use $10^{-8}$ additional constant in the denominator for the sake of numerical stability"
            ]
        },
        {
            "cell_type": "code",
            "execution_count": null,
            "metadata": {},
            "outputs": [],
            "source": [
                "def get_cosine(X):\n",
                "    dot_product = np.sum(X[:, 0] * X[:, 1])\n",
                "    norms = np.sqrt(np.sum(X**2, axis=0)) + 1e-8\n",
                "    res = dot_product / (norms[0] * norms[1])\n",
                "    return res"
            ]
        },
        {
            "cell_type": "code",
            "execution_count": null,
            "metadata": {},
            "outputs": [],
            "source": [
                "answers['cosine'] = [\n",
                "    get_cosine(**inp) for inp in inputs\n",
                "]"
            ]
        },
        {
            "cell_type": "code",
            "execution_count": null,
            "metadata": {},
            "outputs": [],
            "source": [
                "print(answers['cosine'][0])"
            ]
        },
        {
            "cell_type": "markdown",
            "metadata": {},
            "source": [
                "# Task 5. Orthonormalization\n",
                "\n",
                "Create a pair of orthonormal vectors\n",
                "- Take the first vector and normalize it\n",
                "- Take the second vector, remove the collinear component to the first one\n",
                "- Normalize it"
            ]
        },
        {
            "cell_type": "code",
            "execution_count": null,
            "metadata": {},
            "outputs": [],
            "source": [
                "\n",
                "def get_orthonormal(X):\n",
                "    res = X.copy().astype('float32')\n",
                "    res[:, 0] = res[:, 0] / (np.sqrt(np.sum(res[:, 0]**2)) + 1e-8)\n",
                "    proj = np.sum(res[:, 1] * res[:, 0]) * res[:, 0]\n",
                "    res[:, 1] = res[:, 1] - proj\n",
                "    res[:, 1] = res[:, 1] / (np.sqrt(np.sum(res[:, 1]**2)) + 1e-8)\n",
                "    return res"
            ]
        },
        {
            "cell_type": "code",
            "execution_count": null,
            "metadata": {},
            "outputs": [],
            "source": [
                "answers['orthonormal'] = [\n",
                "    get_orthonormal(**inp) for inp in inputs\n",
                "]"
            ]
        },
        {
            "cell_type": "markdown",
            "metadata": {},
            "source": [
                "# 6. Visualization"
            ]
        },
        {
            "cell_type": "code",
            "execution_count": null,
            "metadata": {},
            "outputs": [],
            "source": [
                "import numpy as np\n",
                "import matplotlib.pyplot as plt\n",
                "\n",
                "plt.figure(figsize=(10, 10))\n",
                "ax = plt.gca()\n",
                "X = inputs[0]['X']\n",
                "print(X)\n",
                "vecs = np.concatenate([np.zeros_like(X), X.T], axis=1)\n",
                "X, Y, U, V = zip(*vecs)\n",
                "ax.quiver(X, Y, U, V, angles='xy', scale_units='xy', scale=1, color = 'red')\n",
                "\n",
                "X = answers['orthonormal'][0]\n",
                "print(X)\n",
                "norms = np.concatenate([np.zeros_like(X), X.T], axis=1)\n",
                "X, Y, U, V = zip(*norms)\n",
                "ax.quiver(X, Y, U, V, angles='xy', scale_units='xy', scale=1, color = 'blue')\n",
                "ax.set_xlim([-5, 5])\n",
                "ax.set_ylim([-5, 5])\n",
                "plt.draw()\n",
                "plt.grid()\n",
                "plt.legend(['original', 'orthonormalized'])\n",
                "plt.show()\n"
            ]
        },
        {
            "cell_type": "markdown",
            "metadata": {},
            "source": [
                "# 7. Saving the answer"
            ]
        },
        {
            "cell_type": "code",
            "execution_count": null,
            "metadata": {},
            "outputs": [],
            "source": [
                "json_tricks.dump(answers, '.answer.json')"
            ]
        }
    ],
    "metadata": {
        "kernelspec": {
            "display_name": "Python (Container)",
            "language": "python",
            "name": "container_env"
        },
        "language_info": {
            "codemirror_mode": {
                "name": "ipython",
                "version": 3
            },
            "file_extension": ".py",
            "mimetype": "text/x-python",
            "name": "python",
            "nbconvert_exporter": "python",
            "pygments_lexer": "ipython3",
            "version": "3.11.13"
        }
    },
    "nbformat": 4,
    "nbformat_minor": 2
}
