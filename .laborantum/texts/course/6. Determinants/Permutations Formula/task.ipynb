{
    "cells": [
        {
            "cell_type": "markdown",
            "id": "e57b7bca",
            "metadata": {},
            "source": [
                "# Permutations Formula\n",
                "\n",
                "Write the positive and negative permutations for $2 \\times 2$, $3 \\times 3$ and $4 \\times 4$ matrices as set of strings (Example: `\"1 2 3 4\"`). Remember to check the signs."
            ],
            "outputs": []
        },
        {
            "cell_type": "code",
            "execution_count": null,
            "id": "9c108119",
            "metadata": {},
            "outputs": [],
            "source": [
                "import json_tricks\n",
                "import os\n",
                "from pathlib import Path\n",
                "\n",
                "answer = {\n",
                "        \"2x2\": {\n",
                "            \"+\": sorted([\n",
                "            ]),\n",
                "            \"-\": sorted([\n",
                "            ])\n",
                "        },\n",
                "        \"3x3\": {\n",
                "            \"+\": sorted([\n",
                "            ]),\n",
                "            \"-\": sorted([\n",
                "            ])\n",
                "        },\n",
                "        \"4x4\": {\n",
                "            \"+\": sorted([\n",
                "            ]),\n",
                "            \"-\": sorted([\n",
                "            ])\n",
                "        }\n",
                "    }\n",
                "\n",
                "json_tricks.dump(answer, '.answer.json')"
            ]
        }
    ],
    "metadata": {
        "kernelspec": {
            "display_name": "Python (Container)",
            "language": "python",
            "name": "container_env"
        },
        "language_info": {
            "codemirror_mode": {
                "name": "ipython",
                "version": 3
            },
            "file_extension": ".py",
            "mimetype": "text/x-python",
            "name": "python",
            "nbconvert_exporter": "python",
            "pygments_lexer": "ipython3",
            "version": "3.11.12"
        }
    },
    "nbformat": 4,
    "nbformat_minor": 5
}