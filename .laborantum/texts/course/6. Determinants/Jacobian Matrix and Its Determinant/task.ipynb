{
    "cells": [
        {
            "cell_type": "markdown",
            "metadata": {},
            "source": [
                "# Jacobian Matrix and Its Determinant\n",
                "\n",
                "Write a function that calculates Jacobian matrix and its determinant for given $x$ and $y$:\n",
                "\n",
                "1. $\n",
                "\\begin{cases}\n",
                "\\chi = x^2 + y \\\\\n",
                "\\xi = xy\n",
                "\\end{cases}$\n",
                "\n",
                "2. $\n",
                "\\begin{cases}\n",
                "x = r \\sin \\phi \\\\\n",
                "y = r \\cos \\phi\n",
                "\\end{cases}\n",
                "$\n",
                "\n",
                "<!--\n",
                "$\n",
                "\\begin{cases}\n",
                "r = \\sqrt{x^2 + y^2 + z^2} \\\\\n",
                "\\phi = \\arctan {\\frac{z}{\\sqrt{x^2 + y^2}}} \\\\\n",
                "\\theta = \\arctan {\\frac{y}{x}} \\\\\n",
                "\\end{cases}\n",
                "$\n",
                "-->"
            ],
            "outputs": []
        },
        {
            "cell_type": "code",
            "execution_count": 3,
            "metadata": {},
            "outputs": [],
            "source": [
                "import numpy as np\n",
                "import json_tricks"
            ]
        },
        {
            "cell_type": "code",
            "execution_count": null,
            "metadata": {},
            "outputs": [],
            "source": [
                "def task_1(x, y):\n",
                "    \n",
                "    J = np.array(\n",
                "    )\n",
                "    det_J = (\n",
                "    )\n",
                "    return J, det_J\n",
                "\n",
                "\n",
                "def task_2(r, phi):\n",
                "    J = np.array(\n",
                "    )\n",
                "    det_J = (\n",
                "    )\n",
                "    return J, det_J"
            ]
        },
        {
            "cell_type": "code",
            "execution_count": null,
            "metadata": {},
            "outputs": [],
            "source": [
                "inputs = json_tricks.load('inputs/inputs.json')\n",
                "\n",
                "results = {\n",
                "    'task1': [],\n",
                "    'task2': []\n",
                "}\n",
                "\n",
                "for args in inputs['task1']:\n",
                "    print(inputs['task1'])\n",
                "    results['task1'].append(task_1(**args))\n",
                "\n",
                "for args in inputs['task2']:\n",
                "    results['task2'].append(task_2(**args))\n",
                "\n",
                "json_tricks.dump(results, '.answer.json')"
            ]
        }
    ],
    "metadata": {
        "kernelspec": {
            "display_name": "Python (Container)",
            "language": "python",
            "name": "container_env"
        },
        "language_info": {
            "codemirror_mode": {
                "name": "ipython",
                "version": 3
            },
            "file_extension": ".py",
            "mimetype": "text/x-python",
            "name": "python",
            "nbconvert_exporter": "python",
            "pygments_lexer": "ipython3",
            "version": "3.11.12"
        }
    },
    "nbformat": 4,
    "nbformat_minor": 2
}