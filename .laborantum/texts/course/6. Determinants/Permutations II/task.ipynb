{
    "cells": [
        {
            "cell_type": "markdown",
            "metadata": {},
            "source": [
                "# Permutations II\n",
                "\n",
                "Write a program that calculates the determinant of a matrix and all the products leading to this value using permutation formula:\n",
                "\n",
                "$$\\det A = \\sum_{\\sigma \\in P_N} \\mathrm{sign} (\\sigma) \\prod_{i=1}^N a_{\\sigma_i}$$\n",
                "\n",
                "To get the list of all possible permutations, use `itertools.permutations`.\n",
                "\n",
                "To check for the sign of a pertmutation, check lengths of all cycles in every permutation."
            ]
        },
        {
            "cell_type": "code",
            "execution_count": 7,
            "metadata": {},
            "outputs": [],
            "source": [
                "import numpy as np\n",
                "import json_tricks\n",
                "from pathlib import Path\n",
                "import os"
            ]
        },
        {
            "cell_type": "code",
            "execution_count": 8,
            "metadata": {},
            "outputs": [],
            "source": [
                "from itertools import permutations\n",
                "\n",
                "def permutation_sign(perm):\n",
                "    # Compute sign of permutation using cycle decomposition\n",
                "    visited = [False] * len(perm)\n",
                "    sign = 1\n",
                "    for i in range(len(perm)):\n",
                "        if not visited[i]:\n",
                "            cycle_len = 0\n",
                "            j = i\n",
                "            while not visited[j]:\n",
                "                visited[j] = True\n",
                "                j = perm[j]\n",
                "                cycle_len += 1\n",
                "            if cycle_len % 2 == 0:\n",
                "                sign *= -1\n",
                "    return sign\n",
                "\n",
                "def determinant(A):\n",
                "    # Ensure the matrix is square\n",
                "    n = A.shape[0]\n",
                "    assert A.shape[0] == A.shape[1]\n",
                "\n",
                "    det = 0\n",
                "    elements = []\n",
                "\n",
                "    for perm in permutations(range(n)):\n",
                "        sign = permutation_sign(perm)\n",
                "        product = 1\n",
                "        for i in range(n):\n",
                "            product *= A[i][perm[i]]\n",
                "        signed_product = sign * product\n",
                "        det += signed_product\n",
                "        elements.append(signed_product)\n",
                "\n",
                "    return det, sorted(elements)\n"
            ]
        },
        {
            "cell_type": "code",
            "execution_count": 9,
            "metadata": {},
            "outputs": [
                {
                    "ename": "FileNotFoundError",
                    "evalue": "[Errno 2] No such file or directory: 'inputs.json'",
                    "output_type": "error",
                    "traceback": [
                        "\u001b[31m---------------------------------------------------------------------------\u001b[39m",
                        "\u001b[31mFileNotFoundError\u001b[39m                         Traceback (most recent call last)",
                        "\u001b[36mCell\u001b[39m\u001b[36m \u001b[39m\u001b[32mIn[9]\u001b[39m\u001b[32m, line 1\u001b[39m\n\u001b[32m----> \u001b[39m\u001b[32m1\u001b[39m inputs = \u001b[43mjson_tricks\u001b[49m\u001b[43m.\u001b[49m\u001b[43mload\u001b[49m\u001b[43m(\u001b[49m\u001b[33;43m'\u001b[39;49m\u001b[33;43minputs.json\u001b[39;49m\u001b[33;43m'\u001b[39;49m\u001b[43m)\u001b[49m\n\u001b[32m      2\u001b[39m results = {\u001b[33m'\u001b[39m\u001b[33mresults\u001b[39m\u001b[33m'\u001b[39m: []}\n\u001b[32m      4\u001b[39m \u001b[38;5;28;01mfor\u001b[39;00m args \u001b[38;5;129;01min\u001b[39;00m inputs[\u001b[33m'\u001b[39m\u001b[33minputs\u001b[39m\u001b[33m'\u001b[39m]:\n",
                        "\u001b[36mFile \u001b[39m\u001b[32m/usr/local/lib/python3.11/site-packages/json_tricks/nonp.py:284\u001b[39m, in \u001b[36mload\u001b[39m\u001b[34m(fp, preserve_order, ignore_comments, decompression, obj_pairs_hooks, extra_obj_pairs_hooks, cls_lookup_map, allow_duplicates, conv_str_byte, properties, **jsonkwargs)\u001b[39m\n\u001b[32m    282\u001b[39m \topen_binary = \u001b[38;5;28mbool\u001b[39m(decompression)\n\u001b[32m    283\u001b[39m \u001b[38;5;28;01melse\u001b[39;00m:\n\u001b[32m--> \u001b[39m\u001b[32m284\u001b[39m \t\u001b[38;5;28;01mwith\u001b[39;00m \u001b[38;5;28;43mopen\u001b[39;49m\u001b[43m(\u001b[49m\u001b[43mfp\u001b[49m\u001b[43m,\u001b[49m\u001b[43m \u001b[49m\u001b[33;43m'\u001b[39;49m\u001b[33;43mrb\u001b[39;49m\u001b[33;43m'\u001b[39;49m\u001b[43m)\u001b[49m \u001b[38;5;28;01mas\u001b[39;00m fh:\n\u001b[32m    285\u001b[39m \t\t\u001b[38;5;66;03m# This attempts to detect gzip mode; gzip should always\u001b[39;00m\n\u001b[32m    286\u001b[39m \t\t\u001b[38;5;66;03m# have this header, and text json can't have it.\u001b[39;00m\n\u001b[32m    287\u001b[39m \t\topen_binary = (fh.read(\u001b[32m2\u001b[39m) == \u001b[33mb\u001b[39m\u001b[33m'\u001b[39m\u001b[38;5;130;01m\\x1f\u001b[39;00m\u001b[38;5;130;01m\\x8b\u001b[39;00m\u001b[33m'\u001b[39m)\n\u001b[32m    288\u001b[39m \u001b[38;5;28;01mwith\u001b[39;00m \u001b[38;5;28mopen\u001b[39m(fp, \u001b[33m'\u001b[39m\u001b[33mrb\u001b[39m\u001b[33m'\u001b[39m \u001b[38;5;28;01mif\u001b[39;00m open_binary \u001b[38;5;28;01melse\u001b[39;00m \u001b[33m'\u001b[39m\u001b[33mr\u001b[39m\u001b[33m'\u001b[39m) \u001b[38;5;28;01mas\u001b[39;00m fh:\n",
                        "\u001b[31mFileNotFoundError\u001b[39m: [Errno 2] No such file or directory: 'inputs.json'"
                    ]
                }
            ],
            "source": [
                "inputs = json_tricks.load('inputs.json')\n",
                "results = {'results': []}\n",
                "\n",
                "for args in inputs['inputs']:\n",
                "    results['results'].append([determinant(**args)])\n",
                "\n",
                "json_tricks.dump(results, '.answer.json')"
            ]
        }
    ],
    "metadata": {
        "kernelspec": {
            "display_name": "Python 3",
            "language": "python",
            "name": "python3"
        },
        "language_info": {
            "codemirror_mode": {
                "name": "ipython",
                "version": 3
            },
            "file_extension": ".py",
            "mimetype": "text/x-python",
            "name": "python",
            "nbconvert_exporter": "python",
            "pygments_lexer": "ipython3",
            "version": "3.11.13"
        }
    },
    "nbformat": 4,
    "nbformat_minor": 2
}
