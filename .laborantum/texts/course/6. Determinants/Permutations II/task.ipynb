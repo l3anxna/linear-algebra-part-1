{
    "cells": [
        {
            "cell_type": "markdown",
            "metadata": {},
            "source": [
                "# Permutations II\n",
                "\n",
                "Write a program that calculates the determinant of a matrix and all the products leading to this value using permutation formula:\n",
                "\n",
                "$$\\det A = \\sum_{\\sigma \\in P_N} \\mathrm{sign} (\\sigma) \\prod_{i=1}^N a_{\\sigma_i}$$\n",
                "\n",
                "To get the list of all possible permutations, use `itertools.permutations`.\n",
                "\n",
                "To check for the sign of a pertmutation, check lengths of all cycles in every permutation."
            ],
            "outputs": []
        },
        {
            "cell_type": "code",
            "execution_count": 1,
            "metadata": {},
            "outputs": [],
            "source": [
                "import numpy as np\n",
                "import json_tricks\n",
                "from pathlib import Path\n",
                "import os"
            ]
        },
        {
            "cell_type": "code",
            "execution_count": null,
            "metadata": {},
            "outputs": [],
            "source": [
                "from itertools import permutations\n",
                "\n",
                "def determinant(A):\n",
                "    # Ensure the matrix is square\n",
                "    n = A.shape[0]\n",
                "    assert A.shape[0] == A.shape[1]\n",
                "\n",
                "    det = 0\n",
                "    elements = []\n",
                "\n",
                "\n",
                "    return det, sorted(elements)\n"
            ]
        },
        {
            "cell_type": "code",
            "execution_count": 3,
            "metadata": {},
            "outputs": [],
            "source": [
                "inputs = json_tricks.load('.inputs.json')\n",
                "results = {'results': []}\n",
                "\n",
                "for args in inputs['inputs']:\n",
                "    results['results'].append([determinant(**args)])\n",
                "\n",
                "json_tricks.dump(results, '.answer.json')"
            ]
        }
    ],
    "metadata": {
        "kernelspec": {
            "display_name": "Python (Container)",
            "language": "python",
            "name": "container_env"
        },
        "language_info": {
            "codemirror_mode": {
                "name": "ipython",
                "version": 3
            },
            "file_extension": ".py",
            "mimetype": "text/x-python",
            "name": "python",
            "nbconvert_exporter": "python",
            "pygments_lexer": "ipython3",
            "version": "3.11.12"
        }
    },
    "nbformat": 4,
    "nbformat_minor": 2
}