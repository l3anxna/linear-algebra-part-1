{
    "cells": [
        {
            "cell_type": "markdown",
            "metadata": {},
            "source": [
                "# Determinant Computation Algorithm\n",
                "\n",
                "Write a function that accepts a matrix in form of numpy array and calculates its determinant in the most efficient way (the algorithm will be tested on large matrices).\n",
                "\n",
                "Use vectorized `numpy` operations.\n",
                "\n",
                "You are allowed to use `numpy.linalg`"
            ],
            "outputs": []
        },
        {
            "cell_type": "code",
            "execution_count": null,
            "metadata": {},
            "outputs": [],
            "source": [
                "import numpy as np\n",
                "import json_tricks\n",
                "import scipy"
            ]
        },
        {
            "cell_type": "code",
            "execution_count": null,
            "metadata": {},
            "outputs": [],
            "source": [
                "def determinant_fast(A):\n",
                "    return det, pivots"
            ]
        },
        {
            "cell_type": "code",
            "execution_count": null,
            "metadata": {},
            "outputs": [],
            "source": [
                "inputs = json_tricks.load('.inputs.json')\n",
                "\n",
                "results = {'results': []}\n",
                "for args in inputs['inputs']:\n",
                "    res = determinant_fast(**args)\n",
                "    results['results'].append(res)\n",
                "\n",
                "json_tricks.dump(results, '.answer.json')\n"
            ]
        }
    ],
    "metadata": {
        "kernelspec": {
            "display_name": "Python (Container)",
            "language": "python",
            "name": "container_env"
        },
        "language_info": {
            "codemirror_mode": {
                "name": "ipython",
                "version": 3
            },
            "file_extension": ".py",
            "mimetype": "text/x-python",
            "name": "python",
            "nbconvert_exporter": "python",
            "pygments_lexer": "ipython3",
            "version": "3.11.10"
        }
    },
    "nbformat": 4,
    "nbformat_minor": 2
}