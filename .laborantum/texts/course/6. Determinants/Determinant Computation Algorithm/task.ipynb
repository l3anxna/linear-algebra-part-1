{
    "cells": [
        {
            "cell_type": "markdown",
            "metadata": {},
            "source": [
                "# Determinant Computation Algorithm\n",
                "\n",
                "Write a function that accepts a matrix in form of numpy array and calculates its determinant in the most efficient way (the algorithm will be tested on large matrices).\n",
                "\n",
                "Use vectorized `numpy` operations.\n",
                "\n",
                "You are allowed to use `numpy.linalg`"
            ]
        },
        {
            "cell_type": "code",
            "execution_count": 31,
            "metadata": {},
            "outputs": [],
            "source": [
                "import numpy as np\n",
                "import json_tricks\n",
                "import scipy"
            ]
        },
        {
            "cell_type": "code",
            "execution_count": null,
            "metadata": {},
            "outputs": [],
            "source": [
                "def determinant_fast(A):\n",
                "    A = np.array(A, dtype=np.float64)\n",
                "    n = A.shape[0]\n",
                "    M = A.copy()\n",
                "    det = np.float64(1.0)\n",
                "    for i in range(n):\n",
                "        max_row = np.argmax(np.abs(M[i:, i])) + i\n",
                "        if M[max_row, i] == 0:\n",
                "            det = np.float64(0.0)\n",
                "            break\n",
                "        if max_row != i:\n",
                "            M[[i, max_row]] = M[[max_row, i]]\n",
                "            det *= -1\n",
                "        det *= M[i, i]\n",
                "        if i < n - 1:\n",
                "            M[i, i+1:] = M[i, i+1:] / M[i, i]\n",
                "            M[i+1:, i+1:] -= np.outer(M[i+1:, i], M[i, i+1:])\n",
                "    pivots = M[:, 0].astype(np.float64)\n",
                "    return det, pivots"
            ]
        },
        {
            "cell_type": "code",
            "execution_count": 33,
            "metadata": {},
            "outputs": [
                {
                    "data": {
                        "text/plain": [
                            "'{\"results\": [0.0, 1.9999999999999998, -373.00000000000017, 0.0, -95.0, 7.999999999999995, 199.00000000000034, 225.0000000000002, -6.000000000000001, -756.0000000000002, 379.0, -6.000000000000003, -4.999999999999998, 24.999999999999986, 0.0, 17.999999999999996, -20.99999999999999, -8.000000000000009, -0.9999999999999998, 148.00000000000009, 1.0, 72.99999999999986, 27.999999999999986, -1.0, 0.9999999999999996, -1.0, 149.0, -1.0, -4.999999999999997, 358.9999999999999, -1.9999999999999998, 0.0, -2.9999999999999996, -2.0, 6.869504964868122e-15, -1.0, 14.000000000000009, 0.0, -1.9999999999999998, 0.0, 0.0, 13.000000000000005, -7793.99999999999, -1.0, -1.0, 0.0, -19.99999999999999, 0.0, 0.0, 1.0, -8.000000000000009, -3.999999999999999, 0.0, -1.0, 0.0, -2.000000000000008, 0.0, -16.999999999999993, -510.00000000000074, -1.0, 26.99999999999998, 0.0, 0.0, -95.99999999999999, 108.00000000000011, 0.0, 0.0, 79.9999999999999, 8.999999999999998, 888.9999999999985, 183.9999999999999, 2560.0, 1.0, 352.9999999999993, -37.00000000000003, 48.00000000000001, 7.000000000000001, 0.0, -1.0, -3.0000000000000004, -1.0, -1199.9999999999989, 8.881784197001181e-16, -3.999999999999999, 0.0, 0.0, 0.0, 0.0, 0.0, -2.999999999999998, -62.000000000000064, -1.0, 0.0, -1.0, 0.0, 2.0, -4.0, -6.000000000000003, -1.0, 0.0]}'"
                        ]
                    },
                    "execution_count": 33,
                    "metadata": {},
                    "output_type": "execute_result"
                }
            ],
            "source": [
                "inputs = json_tricks.load('inputs/inputs.json')\n",
                "\n",
                "results = {'results': []}\n",
                "for args in inputs['inputs']:\n",
                "    res = determinant_fast(**args)\n",
                "    results['results'].append(res)\n",
                "\n",
                "json_tricks.dump(results, '.answer.json')\n"
            ]
        }
    ],
    "metadata": {
        "kernelspec": {
            "display_name": "Python 3",
            "language": "python",
            "name": "python3"
        },
        "language_info": {
            "codemirror_mode": {
                "name": "ipython",
                "version": 3
            },
            "file_extension": ".py",
            "mimetype": "text/x-python",
            "name": "python",
            "nbconvert_exporter": "python",
            "pygments_lexer": "ipython3",
            "version": "3.11.13"
        }
    },
    "nbformat": 4,
    "nbformat_minor": 2
}
