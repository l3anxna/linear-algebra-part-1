{
    "cells": [
        {
            "cell_type": "code",
            "execution_count": 1,
            "id": "acceacb5",
            "metadata": {},
            "outputs": [],
            "source": [
                "import numpy as np\n",
                "import json_tricks\n",
                "\n",
                "answer = {}\n",
                "\n",
                "inputs = json_tricks.load('inputs.json')\n"
            ]
        },
        {
            "cell_type": "markdown",
            "id": "2a65a805",
            "metadata": {},
            "source": [
                "# Matrix Product II\n",
                "\n",
                "$$A_{5 \\times 10} \\  B_{10 \\times 2}\\ C_{2 \\times 30}\\ D_{30 \\times 3}\\ E_{3 \\times 9}$$\n",
                "\n",
                "1. What will be the shape of the resulting matrix?\n",
                "2. How many multiplication of numbers are required at best?"
            ]
        },
        {
            "cell_type": "code",
            "execution_count": 2,
            "id": "70ec671d",
            "metadata": {},
            "outputs": [],
            "source": [
                "answer['task1'] = {\n",
                "    '1': (5, 9),\n",
                "    '2': 424\n",
                "}\n",
                "\n"
            ]
        },
        {
            "cell_type": "markdown",
            "id": "a134c56f",
            "metadata": {},
            "source": [
                "# Numpy expression\n",
                "\n",
                "Using Numpy, write a function that calculates the \n",
                "following expression:\n",
                "\n",
                "$$\\exp(A^T(B + 2C) + 3I) \\mathbf x,$$\n",
                "\n",
                "where $I$ is an identity matrix of the necessary shape."
            ]
        },
        {
            "cell_type": "code",
            "execution_count": 3,
            "id": "71c02732",
            "metadata": {},
            "outputs": [],
            "source": [
                "def numpy_expression(A, B, C, x):\n",
                "    M = B + 2 * C\n",
                "    AtM = A.T @ M\n",
                "    if AtM.shape[0] != AtM.shape[1]:\n",
                "        return np.full(x.shape, np.nan, dtype=np.float64)\n",
                "    mat = AtM.astype(np.float64) + 3 * np.eye(AtM.shape[0], dtype=np.float64)\n",
                "    from scipy.linalg import expm\n",
                "    res = expm(mat) @ x.astype(np.float64)\n",
                "    return res.astype(np.float64)"
            ]
        },
        {
            "cell_type": "code",
            "execution_count": 4,
            "id": "e93e082d",
            "metadata": {},
            "outputs": [],
            "source": [
                "answer['task2'] = []\n",
                "for one_input in inputs['task2']:\n",
                "    answer['task2'].append(numpy_expression(**one_input))"
            ]
        },
        {
            "cell_type": "markdown",
            "id": "2aef45b9",
            "metadata": {},
            "source": [
                "# Einstein's Rule\n",
                "\n",
                "In *Tensor Algebra*, a direct generalization of the Linear Algebra to the case of $N$-dimentional tables called *tensors* (normal matrix), the Einstein's rule exists.\n",
                "\n",
                "It works as follows: if you see a duplicating upper and lower index in the formula, that means, this index convolves.\n",
                "\n",
                "For example, the following tensor expression, summation and matrix product are equivalent:\n",
                "\n",
                "$$a_k^l b_l^m = \\sum_{l=1}^L a_k^l b_l^m = AB$$\n",
                "\n",
                "In this notation subscript means row index and superscript means column index.\n",
                "\n",
                "<details>\n",
                "<summary> Note </summary>\n",
                "\n",
                "> [!NOTE]\n",
                "> Also at some point it will be important to know that:\n",
                "> * lower index represents a contravariant dimension of a\n",
                "> tensor\n",
                "> * upper index represents a covariant dimension \n",
                "> of tensor. But let us omit this part for now.\n",
                "\n",
                "</details>\n",
                "\n",
                "# Task\n",
                "\n",
                "Calculate the following expression written using Einstein's \n",
                "rule:\n",
                "\n",
                "$$a_k^m b_m^n c_n^o d_l^k$$"
            ]
        },
        {
            "cell_type": "code",
            "execution_count": 5,
            "id": "3feb6914",
            "metadata": {},
            "outputs": [],
            "source": [
                "def einsteins_rule(A, B, C, D):\n",
                "    res = np.einsum('km,mn,no,lk->lo', A, B, C, D)\n",
                "    return res"
            ]
        },
        {
            "cell_type": "code",
            "execution_count": 6,
            "id": "f9cd1e7e",
            "metadata": {},
            "outputs": [],
            "source": [
                "answer['task3'] = []\n",
                "for one_input in inputs['task3']:\n",
                "    answer['task3'].append(einsteins_rule(**one_input))"
            ]
        },
        {
            "cell_type": "markdown",
            "id": "ad37cd42",
            "metadata": {},
            "source": [
                "# Diagonal Matrix Product\n",
                "\n",
                "You are given two square matrices: $A$ and $D$, where $A$ is a \n",
                "full matrix and $D$ is a diagonal matrix:\n",
                "\n",
                "$$\n",
                "A = \\begin{bmatrix}\n",
                "- & \\mathbf a_1 & - \\\\\n",
                "& \\vdots & \\\\\n",
                "- & \\mathbf a_N & - \\\\\n",
                "\\end{bmatrix}\n",
                "$$\n",
                "\n",
                "$$\n",
                "D = \\textrm{diag}(d_1, d_2, \\dots, d_N) = \\begin{bmatrix}\n",
                "d_1 & & & & \\\\\n",
                "& d_2 & & & \\\\\n",
                "& & d_3 & & \\\\\n",
                "& & & \\ddots & \\\\\n",
                "& & & & d_N \n",
                "\\end{bmatrix}\n",
                "$$\n",
                "\n",
                "Write a program to calculate the result of $DA$ and $AD$ in \n",
                "the fastest possible way."
            ]
        },
        {
            "cell_type": "code",
            "execution_count": 7,
            "id": "af333a41",
            "metadata": {},
            "outputs": [],
            "source": [
                "def diag_prod_DA(A, D):\n",
                "    if D.ndim == 2:\n",
                "        d = np.diag(D)\n",
                "    else:\n",
                "        d = D\n",
                "    res = (d[:, None] * A)\n",
                "    return res\n",
                "\n",
                "def diag_prod_AD(A, D):\n",
                "    if D.ndim == 2:\n",
                "        d = np.diag(D)\n",
                "    else:\n",
                "        d = D\n",
                "    res = (A * d)\n",
                "    return res"
            ]
        },
        {
            "cell_type": "code",
            "execution_count": 8,
            "id": "68f65717",
            "metadata": {},
            "outputs": [],
            "source": [
                "answer['task4_1'] = []\n",
                "answer['task4_2'] = []\n",
                "for one_input in inputs['task4']:\n",
                "    answer['task4_1'].append(diag_prod_DA(**one_input))\n",
                "    answer['task4_2'].append(diag_prod_AD(**one_input))"
            ]
        },
        {
            "cell_type": "markdown",
            "id": "fc7b3dc4",
            "metadata": {},
            "source": [
                "# Sparse Matrix Product\n",
                "\n",
                "You are given two matrices of the same shape: $A$ and $B$. Matrix $A$ is full\n",
                "and is given in the form of `numpy.ndarray`.\n",
                "\n",
                "The second matrix $B$ is **sparse**. That means that the \n",
                "majority of the items are equal to $0$ except for $M$. This matrix is given\n",
                "as a set of non-zero elements of this matrix in form of $3 \\times M$ `numpy.ndarray` as row-column-value tuple (COO sparse matrix form):\n",
                "\n",
                "$$\n",
                "\\begin{bmatrix}\n",
                "r_1 & c_1 & v_1 \\\\\n",
                "r_2 & c_2 & v_2 \\\\\n",
                "& \\vdots & \\\\\n",
                "r_M & c_M & v_M \\\\\n",
                "\\end{bmatrix}\n",
                "$$\n",
                "\n",
                "If in this struct two items correspond to the same location, consider the latter is correct.\n",
                "\n",
                "Write the most efficient program that calculates $AB$.\n",
                "\n",
                "Also return the ratio between the number of multiplication operations that are needed to calculate the sparse product and the number of operations for full product."
            ]
        },
        {
            "cell_type": "code",
            "execution_count": 9,
            "id": "6a439900",
            "metadata": {},
            "outputs": [],
            "source": [
                "import numpy as np\n",
                "\n",
                "def sparse_matrix_product(A, B_sparse):\n",
                "    n, m = A.shape\n",
                "    # Ensure B_sparse is in 3xM format\n",
                "    if B_sparse.shape[0] != 3:\n",
                "        B_sparse = B_sparse.T\n",
                "    rows, cols, vals = B_sparse\n",
                "    # Convert to integers for indexing\n",
                "    rows = rows.astype(int)\n",
                "    cols = cols.astype(int)\n",
                "    # Determine number of columns in B\n",
                "    if len(cols) == 0:\n",
                "        B_ncols = 0\n",
                "    else:\n",
                "        B_ncols = cols.max() + 1\n",
                "    # Initialize result as float64 to match expected type\n",
                "    res = np.zeros((n, B_ncols), dtype=np.float64)\n",
                "    M = len(vals)\n",
                "    # Perform sparse multiplication\n",
                "    for i in range(M):\n",
                "        r = rows[i]\n",
                "        c = cols[i]\n",
                "        v = vals[i]\n",
                "        res[:, c] += A[:, r] * v\n",
                "    # Calculate multiplication ratio\n",
                "    mult_sparse = n * M\n",
                "    mult_full = n * m * B_ncols\n",
                "    # Handle division by zero\n",
                "    ratio = mult_sparse / mult_full if mult_full != 0 else 0.0\n",
                "    return res, ratio"
            ]
        },
        {
            "cell_type": "code",
            "execution_count": 10,
            "id": "2db5922f",
            "metadata": {},
            "outputs": [],
            "source": [
                "answer['task5'] = []\n",
                "for one_input in inputs['task5']:\n",
                "    answer['task5'].append(sparse_matrix_product(**one_input))"
            ]
        },
        {
            "cell_type": "code",
            "execution_count": 11,
            "id": "08e12548",
            "metadata": {},
            "outputs": [
                {
                    "data": {
                        "text/plain": [
                            "'{\"task1\": {\"1\": [5, 9], \"2\": 424}, \"task2\": [{\"__ndarray__\": [[NaN], [NaN], [NaN], [NaN], [NaN], [NaN]], \"dtype\": \"float64\", \"shape\": [6, 1], \"Corder\": true}, {\"__ndarray__\": [[NaN], [NaN], [NaN], [NaN], [NaN], [NaN]], \"dtype\": \"float64\", \"shape\": [6, 1], \"Corder\": true}, {\"__ndarray__\": [[NaN], [NaN], [NaN], [NaN], [NaN], [NaN], [NaN], [NaN]], \"dtype\": \"float64\", \"shape\": [8, 1], \"Corder\": true}, {\"__ndarray__\": [[NaN], [NaN], [NaN], [NaN], [NaN]], \"dtype\": \"float64\", \"shape\": [5, 1], \"Corder\": true}, {\"__ndarray__\": [[NaN], [NaN], [NaN], [NaN], [NaN], [NaN], [NaN], [NaN]], \"dtype\": \"float64\", \"shape\": [8, 1], \"Corder\": true}, {\"__ndarray__\": [[NaN], [NaN], [NaN], [NaN], [NaN], [NaN], [NaN], [NaN]], \"dtype\": \"float64\", \"shape\": [8, 1], \"Corder\": true}, {\"__ndarray__\": [[NaN], [NaN], [NaN], [NaN], [NaN], [NaN], [NaN], [NaN]], \"dtype\": \"float64\", \"shape\": [8, 1], \"Corder\": true}, {\"__ndarray__\": [[NaN], [NaN], [NaN], [NaN], [NaN]], \"dtype\": \"float64\", \"shape\": [5, 1], \"Corder\": true}, {\"__ndarray__\": [[NaN], [NaN], [NaN]], \"dtype\": \"float64\", \"shape\": [3, 1], \"Corder\": true}, {\"__ndarray__\": [[NaN], [NaN], [NaN], [NaN]], \"dtype\": \"float64\", \"shape\": [4, 1], \"Corder\": true}], \"task3\": [{\"__ndarray__\": [[48506, -8208, -2323, -42632, -37130, 6317, -346, 28727], [-39432, -2813, 12000, 37266, 28457, -28774, 9193, 1945], [23582, 15271, -19458, 2009, -13383, -23067, 821, -35268], [-6730, 8065, 3048, 19644, 13563, -5324, -3583, -17783], [29391, 8495, -22202, -25782, -12722, 2634, -21327, 2777], [23946, -12401, 10651, -18540, -39014, -14482, 20230, 24802], [-10750, 25247, -37835, -5284, 238, 1056, -32336, -24844], [-12009, -6748, 41340, 16307, 4256, 65230, -13003, 9533]], \"dtype\": \"int64\", \"shape\": [8, 8], \"Corder\": true}, {\"__ndarray__\": [[-830, 830], [-516, 516]], \"dtype\": \"int64\", \"shape\": [2, 2], \"Corder\": true}, {\"__ndarray__\": [[3737, -3005, 2001, 4167], [10260, -5360, 4416, 5317], [9164, -304, 4252, 2955], [1789, 12291, 2981, 902]], \"dtype\": \"int64\", \"shape\": [4, 4], \"Corder\": true}, {\"__ndarray__\": [[-7132, -43627, 26225, -37002, -4029, 22759], [12604, -34143, 19871, -12877, -4428, 18386], [10135, 471, 485, 7453, -882, -2864], [-7921, 25168, -14713, -6843, 10992, -8530], [-12608, 19603, -5291, 16208, -9967, -23383], [10775, -11255, 7687, 32784, -18639, -3685]], \"dtype\": \"int64\", \"shape\": [6, 6], \"Corder\": true}, {\"__ndarray__\": [[3479, -3486, -611], [387, -1143, -3015], [-524, -291, -3040]], \"dtype\": \"int64\", \"shape\": [3, 3], \"Corder\": true}, {\"__ndarray__\": [[-2968, -3136, -648], [464, 554, 585], [-5766, -4374, -11655]], \"dtype\": \"int64\", \"shape\": [3, 3], \"Corder\": true}, {\"__ndarray__\": [[21987, 10628, 21988, 9512, -14254, 2862], [13559, 16625, 46019, 18639, -26835, -4995], [29597, 15802, -13560, 17753, -23264, -24373], [-29885, -18482, -29197, -27354, 24658, 4342], [-2292, 1900, 25073, 4470, -1086, 11279], [-4760, -15348, -34937, -22981, 15002, -6600]], \"dtype\": \"int64\", \"shape\": [6, 6], \"Corder\": true}, {\"__ndarray__\": [[11503, -6754, -1815, -10766, 1149, -8275], [-7095, -8295, 10598, -18954, 23757, 4560], [12906, -4185, 13754, -19508, 27283, -5663], [-30623, -7288, -8748, 6081, -10953, 10366], [-338, -4252, -16448, 3800, -28137, -1403], [-10174, -5932, 3717, -9211, 11584, -2094]], \"dtype\": \"int64\", \"shape\": [6, 6], \"Corder\": true}, {\"__ndarray__\": [[8012, 5161, 3784, 11445, 9975], [11218, 4253, -942, 9406, -1859], [-2770, -9366, -6886, -15593, -34320], [-7052, -11803, 1615, -13682, -23176], [-9820, -10267, -8899, -19112, -24718]], \"dtype\": \"int64\", \"shape\": [5, 5], \"Corder\": true}, {\"__ndarray__\": [[942, -5394, 1617], [1870, 2822, 749], [6300, 1440, 3612]], \"dtype\": \"int64\", \"shape\": [3, 3], \"Corder\": true}], \"task4_1\": [{\"__ndarray__\": [[-4, 2, -20, -20, 8, -18, 10, -6], [2, -10, 5, -4, -6, -8, 1, 5], [24, -18, 9, -18, 12, 18, 9, 27], [54, -9, -45, -45, 36, 63, 90, 54], [-8, -48, -56, -72, 72, -8, 64, -80], [-42, 14, -49, 35, 35, -63, 42, 63], [-8, -56, 64, 80, 80, -64, 0, 48], [6, -48, -60, -60, -18, -6, 0, 6]], \"dtype\": \"int64\", \"shape\": [8, 8], \"Corder\": true}, {\"__ndarray__\": [[-36, -6], [-3, 24]], \"dtype\": \"int64\", \"shape\": [2, 2], \"Corder\": true}, {\"__ndarray__\": [[0, 0, 0, 0], [49, -56, -63, 70], [18, 12, 2, 8], [0, 0, 0, 0]], \"dtype\": \"int64\", \"shape\": [4, 4], \"Corder\": true}, {\"__ndarray__\": [[14, 35, 63, -42, 42, 35], [4, -4, -20, -12, -36, 4], [18, -36, -9, 18, 54, 27], [-72, 0, -80, 64, -56, 64], [0, 24, 0, 56, -48, 32], [-27, -72, -81, 36, -54, -90]], \"dtype\": \"int64\", \"shape\": [6, 6], \"Corder\": true}, {\"__ndarray__\": [[-20, -5, 35], [-32, 36, 4], [-16, 0, -40]], \"dtype\": \"int64\", \"shape\": [3, 3], \"Corder\": true}, {\"__ndarray__\": [[63, -36, 36], [0, 35, 5], [-35, 63, 14]], \"dtype\": \"int64\", \"shape\": [3, 3], \"Corder\": true}, {\"__ndarray__\": [[21, 15, 12, -21, 18, -27], [64, 32, -24, 32, 48, 48], [18, 10, -8, 2, 8, 12], [-90, 18, 63, 18, 63, -54], [-10, 35, -30, 40, -30, 0], [-9, 7, 9, -9, -5, -7]], \"dtype\": \"int64\", \"shape\": [6, 6], \"Corder\": true}, {\"__ndarray__\": [[-81, 45, -81, -9, -81, 45], [-40, -64, 32, -8, -32, 24], [25, 5, 40, -40, -30, 20], [-36, 28, -12, -36, -16, 12], [36, 81, 27, -18, -27, 54], [-63, -56, -21, 7, -70, -7]], \"dtype\": \"int64\", \"shape\": [6, 6], \"Corder\": true}, {\"__ndarray__\": [[63, 54, 9, -45, -27], [-80, 10, 100, -20, -60], [32, 12, -12, 32, -20], [12, 54, 36, 12, -30], [-6, -3, -6, 3, 0]], \"dtype\": \"int64\", \"shape\": [5, 5], \"Corder\": true}, {\"__ndarray__\": [[2, 12, 12], [-6, -36, -48], [-10, -14, 14]], \"dtype\": \"int64\", \"shape\": [3, 3], \"Corder\": true}], \"task4_2\": [{\"__ndarray__\": [[-4, 1, -30, 90, 32, -63, -40, -18], [4, -10, 15, 36, -48, -56, -8, 30], [16, -6, 9, 54, 32, 42, -24, 54], [-12, 1, 15, -45, -32, -49, 80, -36], [-2, -6, -21, 81, 72, -7, -64, -60], [-12, 2, -21, -45, 40, -63, -48, 54], [2, 7, -24, 90, -80, 56, 0, -36], [2, -8, -30, 90, -24, -7, 0, 6]], \"dtype\": \"int64\", \"shape\": [8, 8], \"Corder\": true}, {\"__ndarray__\": [[-36, -3], [-6, 24]], \"dtype\": \"int64\", \"shape\": [2, 2], \"Corder\": true}, {\"__ndarray__\": [[0, -7, -12, 0], [0, -56, 18, 0], [0, -42, 2, 0], [0, -21, -10, 0]], \"dtype\": \"int64\", \"shape\": [4, 4], \"Corder\": true}, {\"__ndarray__\": [[14, -20, -81, 48, 48, -45], [-7, -4, -45, -24, 72, 9], [-14, -16, -9, 16, -48, 27], [63, 0, -90, 64, 56, 72], [0, -12, 0, -56, -48, -36], [21, -32, -81, 32, 48, -90]], \"dtype\": \"int64\", \"shape\": [6, 6], \"Corder\": true}, {\"__ndarray__\": [[-20, 4, -28], [40, 36, 4], [20, 0, -40]], \"dtype\": \"int64\", \"shape\": [3, 3], \"Corder\": true}, {\"__ndarray__\": [[63, -20, 28], [0, 35, 7], [-45, 45, 14]], \"dtype\": \"int64\", \"shape\": [3, 3], \"Corder\": true}, {\"__ndarray__\": [[21, 40, 8, 63, 30, -9], [24, 32, -6, -36, 30, 6], [27, 40, -8, -9, 20, 6], [30, -16, -14, 18, -35, 6], [-6, 56, -12, -72, -30, 0], [-27, 56, 18, 81, -25, -7]], \"dtype\": \"int64\", \"shape\": [6, 6], \"Corder\": true}, {\"__ndarray__\": [[-81, -40, 45, 4, -81, 35], [45, -64, 20, -4, 36, -21], [-45, 8, 40, -32, 54, -28], [81, 56, -15, -36, 36, -21], [36, -72, -15, 8, -27, 42], [-81, 64, 15, -4, -90, -7]], \"dtype\": \"int64\", \"shape\": [6, 6], \"Corder\": true}, {\"__ndarray__\": [[63, -60, -4, -30, 3], [72, 10, 40, 12, -6], [-72, 30, -12, -48, -5], [18, -90, -24, 12, 5], [54, -30, -24, -18, 0]], \"dtype\": \"int64\", \"shape\": [5, 5], \"Corder\": true}, {\"__ndarray__\": [[2, -36, -12], [2, -36, -16], [10, -42, 14]], \"dtype\": \"int64\", \"shape\": [3, 3], \"Corder\": true}], \"task5\": [[{\"__ndarray__\": [[16.0, -84.0, 10.0, 9.0, -17.0], [34.0, -175.0, -7.0, -2.0, -28.0], [4.0, 192.0, 6.0, 2.0, -42.0], [-28.0, -76.0, 40.0, -7.0, 51.0], [36.0, -16.0, -18.0, -2.0, -54.0], [-76.0, 50.0, -60.0, -5.0, 133.0], [-30.0, -37.0, -7.0, 2.0, 60.0], [-92.0, 6.0, -24.0, -9.0, 165.0]], \"dtype\": \"float64\", \"shape\": [8, 5], \"Corder\": true}, 0.7], [{\"__ndarray__\": [[-18.0, 116.0, 0.0, 3.0], [-22.0, -126.0, 0.0, -32.0]], \"dtype\": \"float64\", \"shape\": [2, 4], \"Corder\": true}, 0.2916666666666667], [{\"__ndarray__\": [[0.0, 24.0, 0.0, -2.0], [0.0, 27.0, 0.0, 4.0], [0.0, -18.0, 0.0, 12.0], [0.0, -3.0, 0.0, 16.0]], \"dtype\": \"float64\", \"shape\": [4, 4], \"Corder\": true}, 0.09375], [{\"__ndarray__\": [[0.0, -9.0, 0.0, 0.0, -18.0, -54.0, -40.0], [28.0, 6.0, 0.0, 0.0, 26.0, -20.0, 71.0], [-12.0, 103.0, 0.0, 0.0, -24.0, 0.0, 60.0], [-32.0, -18.0, 0.0, 0.0, 88.0, -40.0, 46.0], [34.0, 18.0, 0.0, 0.0, -76.0, -53.0, 33.0], [-14.0, -18.0, 0.0, 0.0, 50.0, 37.0, -116.0]], \"dtype\": \"float64\", \"shape\": [6, 7], \"Corder\": true}, 0.4857142857142857], [{\"__ndarray__\": [[93.0, -54.0, 97.0, 76.0, 22.0, -52.0, -39.0, -160.0], [-8.0, 98.0, -78.0, -66.0, 6.0, 28.0, 48.0, 51.0], [-101.0, -56.0, -10.0, -62.0, 19.0, -98.0, -21.0, 21.0]], \"dtype\": \"float64\", \"shape\": [3, 8], \"Corder\": true}, 0.578125], [{\"__ndarray__\": [[-50.0, 9.0, 9.0, -22.0, -30.0, 143.0, 86.0], [-17.0, 17.0, 93.0, -26.0, 19.0, -156.0, 21.0], [20.0, -20.0, -41.0, 24.0, 28.0, 25.0, -34.0]], \"dtype\": \"float64\", \"shape\": [3, 7], \"Corder\": true}, 0.5892857142857143], [{\"__ndarray__\": [[-83.0, -52.0, -48.0, 63.0, 26.0, 17.0], [-37.0, -63.0, -125.0, 73.0, 32.0, 146.0], [-59.0, -114.0, -48.0, 30.0, -23.0, -38.0], [-37.0, -70.0, -102.0, -42.0, -23.0, 24.0], [-79.0, 48.0, -49.0, -115.0, 12.0, -121.0], [97.0, -16.0, 93.0, 144.0, -4.0, 41.0]], \"dtype\": \"float64\", \"shape\": [6, 6], \"Corder\": true}, 0.8958333333333334], [{\"__ndarray__\": [[16.0, -44.0], [59.0, 77.0], [-28.0, -90.0], [23.0, 1.0], [18.0, 123.0], [-79.0, -9.0]], \"dtype\": \"float64\", \"shape\": [6, 2], \"Corder\": true}, 0.8], [{\"__ndarray__\": [[0.0, -8.0, 0.0, 0.0, -14.0, 0.0, -12.0], [-42.0, -62.0, 54.0, -24.0, -26.0, 84.0, 96.0], [42.0, 38.0, -54.0, 24.0, -16.0, -84.0, -12.0], [-14.0, -10.0, 18.0, -8.0, 10.0, 28.0, -4.0], [0.0, 32.0, 0.0, 0.0, 56.0, 0.0, 18.0]], \"dtype\": \"float64\", \"shape\": [5, 7], \"Corder\": true}, 0.5238095238095238], [{\"__ndarray__\": [[-6.0, 0.0, 63.0, 8.0, -54.0, -36.0], [18.0, 0.0, -57.0, 48.0, 35.0, -45.0], [27.0, 0.0, 30.0, -48.0, 4.0, 18.0]], \"dtype\": \"float64\", \"shape\": [3, 6], \"Corder\": true}, 0.5416666666666666]]}'"
                        ]
                    },
                    "execution_count": 11,
                    "metadata": {},
                    "output_type": "execute_result"
                }
            ],
            "source": [
                "json_tricks.dump(answer, '.answer.json', allow_nan=True)"
            ]
        }
    ],
    "metadata": {
        "kernelspec": {
            "display_name": "Python 3",
            "language": "python",
            "name": "python3"
        },
        "language_info": {
            "codemirror_mode": {
                "name": "ipython",
                "version": 3
            },
            "file_extension": ".py",
            "mimetype": "text/x-python",
            "name": "python",
            "nbconvert_exporter": "python",
            "pygments_lexer": "ipython3",
            "version": "3.11.13"
        }
    },
    "nbformat": 4,
    "nbformat_minor": 5
}
