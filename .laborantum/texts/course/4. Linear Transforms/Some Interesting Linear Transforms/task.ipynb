{
    "cells": [
        {
            "cell_type": "code",
            "execution_count": null,
            "id": "de41c1ef",
            "metadata": {},
            "outputs": [],
            "source": [
                "import numpy as np\n",
                "import json_tricks\n",
                "\n",
                "\n",
                "inputs = json_tricks.load('inputs.json')\n",
                "answer = {}"
            ]
        },
        {
            "cell_type": "markdown",
            "id": "ee380f3c",
            "metadata": {},
            "source": [
                "# Inversion Matrix\n",
                "\n",
                "Write a code that generates a matrix that inverses the \n",
                "order of coordinates of a vector in $N$-dimenional space:\n",
                "\n",
                "$$\n",
                "\\begin{bmatrix}\n",
                "x_1 \\\\\n",
                "\\vdots \\\\\n",
                "x_N\n",
                "\\end{bmatrix}\n",
                "\\rightarrow\n",
                "A\n",
                "\\rightarrow\n",
                "\\begin{bmatrix}\n",
                "x_N \\\\\n",
                "\\vdots \\\\\n",
                "x_1\n",
                "\\end{bmatrix}\n",
                "$$"
            ],
            "outputs": []
        },
        {
            "cell_type": "code",
            "execution_count": 2,
            "id": "a56a6e5b",
            "metadata": {},
            "outputs": [],
            "source": [
                "def inversion_matrix(N):\n",
                "    res = np.zeros([N, N])\n",
                "    ## YOUR CODE HERE\n",
                "\n",
                "    return res"
            ]
        },
        {
            "cell_type": "code",
            "execution_count": 3,
            "id": "f92c4677",
            "metadata": {},
            "outputs": [],
            "source": [
                "# Let us check, how does it work\n",
                "\n",
                "x = np.arange(5)\n",
                "print('x:', x)\n",
                "print('Ax:', inversion_matrix(5) @ x)\n"
            ]
        },
        {
            "cell_type": "code",
            "execution_count": 65,
            "id": "7c587198",
            "metadata": {},
            "outputs": [],
            "source": [
                "answer['task1'] = []\n",
                "for one_input in inputs['task1']:\n",
                "    answer['task1'].append(inversion_matrix(**one_input))"
            ]
        },
        {
            "cell_type": "markdown",
            "id": "c05706d2",
            "metadata": {},
            "source": [
                "# Rolling Sum Matrix\n",
                "\n",
                "Write a code that generates a matrix that performs\n",
                "rolling sum of coordinates of a vector in $N$-dimenional \n",
                "space:\n",
                "\n",
                "$$\n",
                "\\begin{bmatrix}\n",
                "x_1 \\\\\n",
                "x_2 \\\\\n",
                "\\vdots \\\\\n",
                "x_N\n",
                "\\end{bmatrix}\n",
                "\\rightarrow\n",
                "A\n",
                "\\rightarrow\n",
                "\\begin{bmatrix}\n",
                "x_1 \\\\\n",
                "x_1 + x_2 \\\\\n",
                "\\vdots \\\\\n",
                "x_1 + x_2 + \\dots + x_N\n",
                "\\end{bmatrix}\n",
                "$$"
            ],
            "outputs": []
        },
        {
            "cell_type": "code",
            "execution_count": 66,
            "id": "365cf0bf",
            "metadata": {},
            "outputs": [],
            "source": [
                "def rolling_sum_matrix(N):\n",
                "    res = np.zeros([N, N])\n",
                "    ## YOUR CODE HERE\n",
                "\n",
                "    return res"
            ]
        },
        {
            "cell_type": "code",
            "execution_count": 67,
            "id": "168a7219",
            "metadata": {},
            "outputs": [],
            "source": [
                "# Let us check, how does it work\n",
                "\n",
                "x = np.arange(5)\n",
                "print('x:', x)\n",
                "print('Ax:', rolling_sum_matrix(5) @ x)\n"
            ]
        },
        {
            "cell_type": "code",
            "execution_count": 68,
            "id": "81de6e62",
            "metadata": {},
            "outputs": [],
            "source": [
                "answer['task2'] = []\n",
                "for one_input in inputs['task2']:\n",
                "    answer['task2'].append(rolling_sum_matrix(**one_input))"
            ]
        },
        {
            "cell_type": "markdown",
            "id": "dd001c1f",
            "metadata": {},
            "source": [
                "# Neighbors Difference Matrix\n",
                "\n",
                "Write a code that generates a matrix that computes a vector \n",
                "with difference of adjacent elements of the original vector \n",
                "order of coordinates of a vector in $N$-dimenional space:\n",
                "\n",
                "$$\n",
                "\\begin{bmatrix}\n",
                "x_1 \\\\\n",
                "\\vdots \\\\\n",
                "x_N\n",
                "\\end{bmatrix}\n",
                "\\rightarrow\n",
                "A\n",
                "\\rightarrow\n",
                "\\begin{bmatrix}\n",
                "x_2 - x_1 \\\\\n",
                "\\vdots \\\\\n",
                "x_N - x_{N-1}\n",
                "\\end{bmatrix}\n",
                "$$"
            ],
            "outputs": []
        },
        {
            "cell_type": "code",
            "execution_count": 69,
            "id": "9cdb859a",
            "metadata": {},
            "outputs": [],
            "source": [
                "def neighbors_difference_matrix(N):\n",
                "    res = np.zeros([N, N])\n",
                "    ## YOUR CODE HERE\n",
                "    return res"
            ]
        },
        {
            "cell_type": "code",
            "execution_count": 70,
            "id": "45ddeedf",
            "metadata": {},
            "outputs": [],
            "source": [
                "# Let us check, how does it work\n",
                "\n",
                "x = np.arange(5)\n",
                "print('x:', x)\n",
                "print('Ax:', neighbors_difference_matrix(5) @ x)\n"
            ]
        },
        {
            "cell_type": "code",
            "execution_count": 71,
            "id": "46a55e44",
            "metadata": {},
            "outputs": [],
            "source": [
                "answer['task3'] = []\n",
                "for one_input in inputs['task3']:\n",
                "    answer['task3'].append(neighbors_difference_matrix(**one_input))"
            ]
        },
        {
            "cell_type": "markdown",
            "id": "52e8def5",
            "metadata": {},
            "source": [
                "# Permutation Matrix\n",
                "\n",
                "You are given a permutation $\\sigma$ (order, the permuted \n",
                "elements should go in).\n",
                "\n",
                "Write a program that generates a matrix that permutes\n",
                "coordinates in vector:\n",
                "\n",
                "$$\n",
                "\\begin{bmatrix}\n",
                "x_1 \\\\\n",
                "x_2 \\\\\n",
                "\\vdots \\\\\n",
                "x_N\n",
                "\\end{bmatrix}\n",
                "\\rightarrow\n",
                "A\n",
                "\\rightarrow\n",
                "\\begin{bmatrix}\n",
                "x_{\\sigma_1} \\\\\n",
                "x_{\\sigma_2} \\\\\n",
                "\\vdots \\\\\n",
                "x_{\\sigma_N}\n",
                "\\end{bmatrix}\n",
                "$$\n",
                "\n",
                "For example, if you are given a permutation $\\sigma = (3, 4, 2, 1)$,\n",
                "the resulting vector should have the following form:\n",
                "\n",
                "$$[x_3, x_4, x_2, x_1]^T$$"
            ],
            "outputs": []
        },
        {
            "cell_type": "code",
            "execution_count": 72,
            "id": "8de43da2",
            "metadata": {},
            "outputs": [],
            "source": [
                "def permutation_matrix(order):\n",
                "    N = len(order)\n",
                "    res = np.zeros([N, N])\n",
                "    ## YOUR CODE HERE\n",
                "\n",
                "    return res"
            ]
        },
        {
            "cell_type": "code",
            "execution_count": 73,
            "id": "7dce49fd",
            "metadata": {},
            "outputs": [],
            "source": [
                "# Let us check, how does it work\n",
                "\n",
                "order = np.random.permutation(5)\n",
                "x = np.arange(5)\n",
                "print('x:', x)\n",
                "print('order:', order)\n",
                "print('Ax:', permutation_matrix(order) @ x)\n"
            ]
        },
        {
            "cell_type": "code",
            "execution_count": 74,
            "id": "b2d7c8e4",
            "metadata": {},
            "outputs": [],
            "source": [
                "answer['task4'] = []\n",
                "for one_input in inputs['task4']:\n",
                "    answer['task4'].append(permutation_matrix(**one_input))"
            ]
        },
        {
            "cell_type": "markdown",
            "id": "315e065b",
            "metadata": {},
            "source": [
                "# 2D Rotation Matrix\n",
                "\n",
                "Write a code that, given the angle $\\theta$, generates a \n",
                "matrix that rotates any 2D vector by angle $\\theta$ counterclockwise without changing its length."
            ],
            "outputs": []
        },
        {
            "cell_type": "code",
            "execution_count": 75,
            "id": "01d5b2b6",
            "metadata": {},
            "outputs": [],
            "source": [
                "def rotation_2D_matrix(phi):\n",
                "    res = np.zeros([2, 2])\n",
                "    ## YOUR CODE HERE\n",
                "\n",
                "    return res"
            ]
        },
        {
            "cell_type": "code",
            "execution_count": 76,
            "id": "de422250",
            "metadata": {},
            "outputs": [],
            "source": [
                "# Let us check, how does it work\n",
                "\n",
                "order = np.random.permutation(5)\n",
                "x = np.array([1, 1])\n",
                "\n",
                "print('x:', x)\n",
                "print('order:', order)\n",
                "print('Ax:', rotation_2D_matrix(np.pi / 4) @ x)"
            ]
        },
        {
            "cell_type": "code",
            "execution_count": 77,
            "id": "0683ba31",
            "metadata": {},
            "outputs": [],
            "source": [
                "answer['task5'] = []\n",
                "for one_input in inputs['task5']:\n",
                "    answer['task5'].append(rotation_2D_matrix(**one_input))"
            ]
        },
        {
            "cell_type": "code",
            "execution_count": 78,
            "id": "7228a157",
            "metadata": {},
            "outputs": [],
            "source": [
                "json_tricks.dump(answer, '.answer.json')"
            ]
        }
    ],
    "metadata": {
        "kernelspec": {
            "display_name": "Python (Container)",
            "language": "python",
            "name": "container_env"
        },
        "language_info": {
            "codemirror_mode": {
                "name": "ipython",
                "version": 3
            },
            "file_extension": ".py",
            "mimetype": "text/x-python",
            "name": "python",
            "nbconvert_exporter": "python",
            "pygments_lexer": "ipython3",
            "version": "3.11.12"
        }
    },
    "nbformat": 4,
    "nbformat_minor": 5
}