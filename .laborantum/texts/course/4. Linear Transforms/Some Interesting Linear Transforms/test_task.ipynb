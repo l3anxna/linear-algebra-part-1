import numpy as np
import pytest
from .task import inversion_matrix, rolling_sum_matrix, neighbors_difference_matrix, permutation_matrix, rotation_2D_matrix

# Python



def test_inversion_matrix():
    x = np.array([1, 2, 3, 4])
    A = inversion_matrix(4)
    np.testing.assert_array_equal(A @ x, x[::-1])

def test_rolling_sum_matrix():
    x = np.array([1, 2, 3, 4])
    A = rolling_sum_matrix(4)
    expected = np.array([1, 3, 6, 10])
    np.testing.assert_array_equal(A @ x, expected)

def test_neighbors_difference_matrix():
    x = np.array([1, 3, 6, 10])
    A = neighbors_difference_matrix(4)
    expected = np.array([2, 3, 4, 0])
    np.testing.assert_array_equal(A @ x, expected)

def test_permutation_matrix():
    x = np.array([10, 20, 30, 40])
    order = [2, 3, 1, 0]
    A = permutation_matrix(order)
    expected = x[order]
    np.testing.assert_array_equal(A @ x, expected)

def test_rotation_2D_matrix():
    x = np.array([1, 0])
    theta = np.pi / 2
    A = rotation_2D_matrix(theta)
    expected = np.array([0, 1])
    np.testing.assert_allclose(A @ x, expected, atol=1e-7)