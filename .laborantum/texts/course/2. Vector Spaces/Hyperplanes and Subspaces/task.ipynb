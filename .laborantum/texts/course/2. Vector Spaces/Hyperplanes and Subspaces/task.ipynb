{
    "cells": [
        {
            "cell_type": "code",
            "execution_count": 17,
            "id": "6f72d992",
            "metadata": {},
            "outputs": [],
            "source": [
                "import numpy as np\n",
                "import json_tricks\n",
                "\n",
                "\n",
                "inputs = json_tricks.load('inputs.json')\n",
                "answer = {}\n"
            ]
        },
        {
            "cell_type": "markdown",
            "id": "df6511fd",
            "metadata": {},
            "source": [
                "# Task"
            ]
        },
        {
            "cell_type": "markdown",
            "id": "b9f89b1e",
            "metadata": {},
            "source": [
                "You are given a linear hyperspace by 2 entities:\n",
                "- a vector that belongs to the hyperspace $\\mathbf x_0$\n",
                "- a normal vector to this hyperspace $\\mathbf w$\n",
                "\n",
                "So that the hyperplane is given by equation:\n",
                "\n",
                "$\\left<\\mathbf w, \\mathbf x - \\mathbf x_0\\right> = 0$\n",
                "\n",
                "You are also given another vector $\\mathbf y$. \n",
                "\n",
                "Find distance from this vector to the given hyperplane."
            ]
        },
        {
            "cell_type": "code",
            "execution_count": 18,
            "id": "6f14336b",
            "metadata": {},
            "outputs": [],
            "source": [
                "def distance_to_hyperplane_1(y, w, x0):\n",
                "    res = 0\n",
                "    w = np.array(w)\n",
                "    y = np.array(y)\n",
                "    x0 = np.array(x0)\n",
                "    numerator = np.abs(np.dot(w, y - x0))\n",
                "    denominator = np.linalg.norm(w)\n",
                "    res = numerator / denominator\n",
                "    return res"
            ]
        },
        {
            "cell_type": "code",
            "execution_count": 19,
            "id": "2c3b30e3",
            "metadata": {},
            "outputs": [],
            "source": [
                "answer['task1'] = []\n",
                "for one_input in inputs['task1']:\n",
                "    answer['task1'].append(\n",
                "        distance_to_hyperplane_1(**one_input))"
            ]
        },
        {
            "cell_type": "markdown",
            "id": "d472a155",
            "metadata": {},
            "source": [
                "# Task"
            ]
        },
        {
            "cell_type": "markdown",
            "id": "21387b9f",
            "metadata": {},
            "source": [
                "You are given a linear hyperspace by 2 entities:\n",
                "- a vector that belongs to the hyperspace $\\mathbf x_0$\n",
                "- a set of direction vectors for this hyperspace $\\mathbf a_1, \\dots, \\mathbf a_K$ in form of column-matrix \n",
                "    \n",
                "    $A = \\begin{bmatrix}\n",
                "    | & | & & | \\\\\n",
                "    \\mathbf a_1 & \\mathbf a_2 & \\dots & \\mathbf a_K \\\\\n",
                "    | & | & & | \\\\\n",
                "    \\end{bmatrix}$\n",
                "\n",
                "So that the hyperplane is given by equation:\n",
                "\n",
                "$\\mathbf x_0 + \\sum_{k=1}^K \\alpha_k \\mathbf a_k = \\mathbf 0$\n",
                "\n",
                "You are also given another vector $\\mathbf y$. \n",
                "\n",
                "Find distance from this vector to the given hyperplane."
            ]
        },
        {
            "cell_type": "code",
            "execution_count": 20,
            "id": "a1feed22",
            "metadata": {},
            "outputs": [],
            "source": [
                "def distance_to_hyperplane_2(y, A, x0):\n",
                "    y = np.array(y, dtype=np.float64).flatten()\n",
                "    x0 = np.array(x0, dtype=np.float64).flatten()\n",
                "    A = np.array(A, dtype=np.float64)\n",
                "    \n",
                "    if A.size == 0:\n",
                "        return np.linalg.norm(y - x0)\n",
                "    \n",
                "    # Normalize columns for better numerical stability\n",
                "    norms = np.sqrt(np.sum(A * A, axis=0))\n",
                "    norms[norms == 0] = 1\n",
                "    A = A / norms\n",
                "    \n",
                "    # Calculate orthogonal basis for the column space of A\n",
                "    Q = np.linalg.svd(A, full_matrices=False)[0]\n",
                "    \n",
                "    # Calculate the projection onto the orthogonal complement\n",
                "    diff = y - x0\n",
                "    proj = Q @ (Q.T @ diff)\n",
                "    perp = diff - proj\n",
                "    \n",
                "    return np.linalg.norm(perp)"
            ]
        },
        {
            "cell_type": "code",
            "execution_count": 21,
            "id": "0c2de6b6",
            "metadata": {},
            "outputs": [],
            "source": [
                "answer['task2'] = []\n",
                "for one_input in inputs['task2']:\n",
                "    answer['task2'].append(\n",
                "        distance_to_hyperplane_2(**one_input))"
            ]
        },
        {
            "cell_type": "markdown",
            "id": "ecea6a3e",
            "metadata": {},
            "source": [
                "# Task"
            ]
        },
        {
            "cell_type": "markdown",
            "id": "db4d58c6",
            "metadata": {},
            "source": [
                "You are given 2 linear hyperspaces, each defined by 2 entities:\n",
                "- a vector that belongs to the hyperspace $\\mathbf x_0$\n",
                "- a set of direction vectors for this hyperspace $\\mathbf a_1, \\dots, \\mathbf a_K$ in form of column-matrix \n",
                "\n",
                "So that each of the hyperplanes is given by equation:\n",
                "\n",
                "$\\mathbf x_0 + \\sum_{k=1}^K \\alpha_k \\mathbf a_k = \\mathbf 0$\n",
                "\n",
                "Find distance between these hyperplanes."
            ]
        },
        {
            "cell_type": "code",
            "execution_count": 22,
            "id": "af62102a",
            "metadata": {},
            "outputs": [],
            "source": [
                "def distance_to_hyperplane_3(A, x0, B, y0):\n",
                "    # Convert inputs to float64 for better precision\n",
                "    A = np.array(A, dtype=np.float64)\n",
                "    x0 = np.array(x0, dtype=np.float64)\n",
                "    B = np.array(B, dtype=np.float64)\n",
                "    y0 = np.array(y0, dtype=np.float64)\n",
                "\n",
                "    if A.size == 0 and B.size == 0:\n",
                "        return np.linalg.norm(x0 - y0)\n",
                "\n",
                "    # Normalize columns for better numerical stability\n",
                "    if A.size > 0:\n",
                "        A_norms = np.sqrt(np.sum(A * A, axis=0))\n",
                "        A_norms[A_norms == 0] = 1\n",
                "        A = A / A_norms\n",
                "\n",
                "    if B.size > 0:\n",
                "        B_norms = np.sqrt(np.sum(B * B, axis=0))\n",
                "        B_norms[B_norms == 0] = 1\n",
                "        B = B / B_norms\n",
                "\n",
                "    # Combine matrices and solve least squares problem\n",
                "    M = np.hstack([A, -B]) if (A.size > 0 and B.size > 0) else (A if A.size > 0 else -B)\n",
                "    c = y0 - x0\n",
                "\n",
                "    if M.size == 0:\n",
                "        return np.linalg.norm(c)\n",
                "\n",
                "    # Use SVD for better numerical stability\n",
                "    U, s, Vh = np.linalg.svd(M, full_matrices=False)\n",
                "    \n",
                "    # Filter small singular values for numerical stability\n",
                "    tol = 1e-10 * s[0]\n",
                "    mask = s > tol\n",
                "    U = U[:, mask]\n",
                "    s = s[mask]\n",
                "    Vh = Vh[mask]\n",
                "\n",
                "    # Solve using SVD components\n",
                "    z_hat = Vh.T @ (U.T @ c / s)\n",
                "    proj = M @ z_hat\n",
                "    perp = c - proj\n",
                "\n",
                "    return np.linalg.norm(perp)"
            ]
        },
        {
            "cell_type": "code",
            "execution_count": 23,
            "id": "97fb9e0d",
            "metadata": {},
            "outputs": [],
            "source": [
                "answer['task3'] = []\n",
                "for one_input in inputs['task3']:\n",
                "    answer['task3'].append(\n",
                "        distance_to_hyperplane_3(**one_input))"
            ]
        },
        {
            "cell_type": "code",
            "execution_count": 24,
            "id": "3313eaf1",
            "metadata": {},
            "outputs": [
                {
                    "data": {
                        "text/plain": [
                            "'{\"task1\": [1.1611015532036637, 1.2169686348578783, 3.8171960993534175, 2.1577367083828145, 17.53449972356085, 13.749230523405476, 0.11441551070947108, 0.9750002110024923, 2.0481280123278074, 0.4178554470186725, 7.299732493572025, 5.405127802564358, 2.0541374149458744, 6.71079347281296, 3.03653640842388, 9.498185286556286, 3.7630890450319083, 1.8641906049463526, 10.670770020027398, 5.291772589866002, 0.912245460839306, 0.20732586478679277, 12.816310409006174, 1.6373225835853016, 6.291571550369559, 20.239709319388293, 16.466083091274903, 13.474719001142073, 5.2761044442380856, 0.7250110520819842, 4.519523979103389, 4.225904366704887, 4.775521858228876, 13.912436341952132, 7.24644943484495, 9.313787360469487, 1.0596535411727601, 5.682048493486052, 4.5807379490262905, 3.3300869947532497, 5.307227776030219, 5.6272294256742645, 4.913975701062781, 4.802205375719392, 6.501355432613329, 11.47165060247919, 1.1319709719592113, 4.803995448402746, 3.272807297357087, 15.777869833110813, 4.517699029348238, 0.17814530949575066, 3.5284844379917275, 5.934930515784213, 6.125013426408485, 8.159217498552128, 5.019810939931819, 0.408248290463863, 7.4957996896270505, 4.283283920775676, 0.2637521893583148, 2.049056675010037, 6.8132996874920275, 8.405557343559956, 2.999321190171195, 5.6285099470110636, 3.655702647879198, 2.0465731207219395, 5.879747322073336, 9.329263895676059, 3.139348229106255, 0.5607987647363063, 0.6950480468569159, 10.191007784407427, 4.568082535241728, 9.192388155425117, 1.0021428596001425, 12.690431782391386, 7.765802747153207, 3.212717121212626, 4.218792040149278, 3.5777087639996634, 0.769800358919501, 0.8945002144062506, 5.085382100797452, 6.804547614641353, 6.163512150222625, 2.914609664251715, 7.816784172767301, 0.46205845409189783, 12.28312270520947, 2.0787069844672015, 19.79524821394902, 8.642489395470479, 9.065168465359845, 6.214172255980044, 6.830992648790024, 8.546023022424297, 7.3876871941035835, 0.16442642142942065], \"task2\": [29.629844392546197, 21.271746037577156, 39.167570695513476, 42.51326464355224, 25.8241238470668, 34.73198427198685, 21.55885231720955, 33.372163542163044, 11.672593420194639, 16.00268923632796, 43.12657326792424, 34.21997853404911, 20.888216691870173, 12.788293825238569, 27.7404986107235, 60.284583447604156, 47.81311500916766, 39.20795949308537, 44.99855363308826, 50.86446402302331, 38.83116116404722, 59.392957484403, 25.413911491336084, 71.75945843853157, 22.96760635960924, 38.847317840059304, 49.725404437222515, 13.255726525328052, 46.97814442596342, 59.34613863761029, 30.02569442101433, 28.48730655364451, 11.630961036030865, 44.001821219964505, 50.829570692200264, 26.300703285972826, 28.636776340207486, 26.64458362899459, 17.9622376857635, 79.26970361214435, 37.717469775888354, 42.45943959519047, 31.75044069245112, 54.19201835801993, 37.18292776267721, 31.233139161747935, 10.094938929963199, 11.407907383792741, 67.0280759933574, 13.732450981215985, 46.14089935983625, 27.233694468304307, 13.353611495920997, 31.340032120711385, 23.560117002291232, 10.784098036359474, 52.5979539350853, 26.188089983639525, 24.20323737611793, 32.170964402458885, 60.342927225129074, 14.150821189505972, 21.34959611292726, 59.81487266684481, 53.61417093306552, 19.76941644243617, 57.50189702547936, 47.79943428631005, 56.56370997403237, 28.088648956083066, 41.146339802287365, 60.33677082915871, 50.7806449456663, 20.681602914200145, 58.59364732196159, 30.71794776505791, 18.290471784673624, 40.40300486527524, 38.88383273712685, 33.543949317442326, 36.07503985563129, 45.40302984828623, 14.018547893393597, 13.003710284704969, 34.480909699518236, 53.84230367340938, 38.76957233981652, 63.14959329256112, 63.49028812855116, 46.3663100485238, 30.669196636966724, 37.70090641078936, 74.26595232040428, 44.226730348739046, 47.638730579388145, 93.14152630609834, 42.01841386689153, 50.064990424924815, 28.87958412285847, 60.53936925942109], \"task3\": [1.6761342221977302e-13, 9.862199882271804, 1.03115276844096e-13, 1.122264784287325e-13, 18.606023825206286, 33.24915572374668, 1.6944053441205688e-11, 18.40289500268918, 1.73876663737821e-14, 1.9125472584304999, 1.3465730532793286e-13, 2.3528944320719204e-13, 20.840703895585985, 7.161012785601343, 1.0356621807485637e-13, 1.9051559560515908e-13, 3.42275859789906e-13, 36.06229398043925, 31.95010805515523, 49.477667439619154, 1.7657723614727867e-13, 3.5938925936384833e-13, 20.98499312910344, 71.3586602397371, 21.938252459321024, 22.605388863116378, 2.2465318018720294e-13, 1.0087767680389479e-14, 10.166708080096768, 27.582795542235246, 1.1454747782950291e-13, 15.368410432078326, 1.5626209152845233e-14, 37.03922205558272, 16.795264352028408, 8.538773422169986e-14, 23.484801523812955, 8.775826703054621e-14, 2.680033309874583e-14, 58.56896836761389, 2.7395350451863536e-13, 26.899938193158853, 1.044204741990996e-13, 29.268487639882373, 1.5422576191383868e-13, 9.3418058017488e-14, 8.874636696125772e-14, 11.153330266284868, 37.90067959800953, 7.065145654090048e-14, 8.664278309165634e-13, 8.914510179324711e-14, 1.2566096467724402e-13, 8.89711979083502e-14, 3.6615863962463006e-14, 1.3396018609226407e-14, 3.2211324088102197e-13, 24.681259935404906, 1.2266202912061508e-13, 1.8671399963173765e-13, 24.783910392622097, 5.5405782040421955e-14, 2.6791133162633643e-14, 1.9805008670064714e-13, 30.922796070107257, 6.308486075398644e-14, 33.18140357416191, 40.57698323504672, 47.06869032581552, 23.105060836853266, 12.571353918070068, 55.42047170103874, 46.69306616507824, 1.8710379528639024e-13, 27.453599485296905, 1.1968144193955206e-13, 2.7184544737632087e-13, 1.2475151846159545e-13, 37.415213049382906, 25.446553396419198, 1.6682099461819803e-13, 2.85934299609139e-13, 12.824232991262061, 5.2560823755821785e-14, 1.3916267947475e-13, 51.925188034601746, 2.5832038770977033e-13, 2.615728092181835e-13, 46.76862945669892, 43.452573174451175, 6.013146649539727e-14, 33.75394562385229, 68.70629065757944, 1.8633279895641578e-13, 37.87654183593753, 91.56019455517149, 30.96534964529871, 3.1652775077907416e-13, 1.1738958877776893e-13, 41.15009714892568]}'"
                        ]
                    },
                    "execution_count": 24,
                    "metadata": {},
                    "output_type": "execute_result"
                }
            ],
            "source": [
                "json_tricks.dump(answer, '.answer.json')"
            ]
        }
    ],
    "metadata": {
        "kernelspec": {
            "display_name": "Python (Container)",
            "language": "python",
            "name": "container_env"
        },
        "language_info": {
            "codemirror_mode": {
                "name": "ipython",
                "version": 3
            },
            "file_extension": ".py",
            "mimetype": "text/x-python",
            "name": "python",
            "nbconvert_exporter": "python",
            "pygments_lexer": "ipython3",
            "version": "3.11.13"
        }
    },
    "nbformat": 4,
    "nbformat_minor": 5
}
