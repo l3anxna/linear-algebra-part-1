{
    "cells": [
        {
            "cell_type": "code",
            "execution_count": 17,
            "id": "6f72d992",
            "metadata": {},
            "outputs": [],
            "source": [
                "import numpy as np\n",
                "import json_tricks\n",
                "\n",
                "\n",
                "inputs = json_tricks.load('inputs.json')\n",
                "answer = {}\n"
            ]
        },
        {
            "cell_type": "markdown",
            "id": "df6511fd",
            "metadata": {},
            "source": [
                "# Task"
            ]
        },
        {
            "cell_type": "markdown",
            "id": "b9f89b1e",
            "metadata": {},
            "source": [
                "You are given a linear hyperspace by 2 entities:\n",
                "- a vector that belongs to the hyperspace $\\mathbf x_0$\n",
                "- a normal vector to this hyperspace $\\mathbf w$\n",
                "\n",
                "So that the hyperplane is given by equation:\n",
                "\n",
                "$\\left<\\mathbf w, \\mathbf x - \\mathbf x_0\\right> = 0$\n",
                "\n",
                "You are also given another vector $\\mathbf y$. \n",
                "\n",
                "Find distance from this vector to the given hyperplane."
            ]
        },
        {
            "cell_type": "code",
            "execution_count": 18,
            "id": "6f14336b",
            "metadata": {},
            "outputs": [],
            "source": [
                "def distance_to_hyperplane_1(y, w, x0):\n",
                "    res = 0\n",
                "    w = np.array(w)\n",
                "    y = np.array(y)\n",
                "    x0 = np.array(x0)\n",
                "    numerator = np.abs(np.dot(w, y - x0))\n",
                "    denominator = np.linalg.norm(w)\n",
                "    res = numerator / denominator\n",
                "    return res"
            ]
        },
        {
            "cell_type": "code",
            "execution_count": 19,
            "id": "2c3b30e3",
            "metadata": {},
            "outputs": [],
            "source": [
                "answer['task1'] = []\n",
                "for one_input in inputs['task1']:\n",
                "    answer['task1'].append(\n",
                "        distance_to_hyperplane_1(**one_input))"
            ]
        },
        {
            "cell_type": "markdown",
            "id": "d472a155",
            "metadata": {},
            "source": [
                "# Task"
            ]
        },
        {
            "cell_type": "markdown",
            "id": "21387b9f",
            "metadata": {},
            "source": [
                "You are given a linear hyperspace by 2 entities:\n",
                "- a vector that belongs to the hyperspace $\\mathbf x_0$\n",
                "- a set of direction vectors for this hyperspace $\\mathbf a_1, \\dots, \\mathbf a_K$ in form of column-matrix \n",
                "    \n",
                "    $A = \\begin{bmatrix}\n",
                "    | & | & & | \\\\\n",
                "    \\mathbf a_1 & \\mathbf a_2 & \\dots & \\mathbf a_K \\\\\n",
                "    | & | & & | \\\\\n",
                "    \\end{bmatrix}$\n",
                "\n",
                "So that the hyperplane is given by equation:\n",
                "\n",
                "$\\mathbf x_0 + \\sum_{k=1}^K \\alpha_k \\mathbf a_k = \\mathbf 0$\n",
                "\n",
                "You are also given another vector $\\mathbf y$. \n",
                "\n",
                "Find distance from this vector to the given hyperplane."
            ]
        },
        {
            "cell_type": "code",
            "execution_count": 33,
            "id": "a1feed22",
            "metadata": {},
            "outputs": [],
            "source": [
                "def distance_to_hyperplane_2(y, A, x0):\n",
                "    y = np.array(y).flatten()\n",
                "    x0 = np.array(x0).flatten()\n",
                "    A = np.array(A)\n",
                "    \n",
                "    if A.size == 0:\n",
                "        return np.linalg.norm(y - x0)\n",
                "    \n",
                "    try:\n",
                "        AT = A.T\n",
                "        ATA = AT @ A\n",
                "        ATA_inv = np.linalg.inv(ATA)\n",
                "        P = A @ ATA_inv @ AT\n",
                "        \n",
                "        diff = y - x0\n",
                "        perp = diff - P @ diff\n",
                "        \n",
                "        return np.linalg.norm(perp)\n",
                "    except np.linalg.LinAlgError:\n",
                "        diff = y - x0\n",
                "        alpha = np.linalg.lstsq(A, diff, rcond=None)[0]\n",
                "        proj = A @ alpha\n",
                "        return np.linalg.norm(diff - proj)"
            ]
        },
        {
            "cell_type": "code",
            "execution_count": 34,
            "id": "0c2de6b6",
            "metadata": {},
            "outputs": [],
            "source": [
                "answer['task2'] = []\n",
                "for one_input in inputs['task2']:\n",
                "    answer['task2'].append(\n",
                "        distance_to_hyperplane_2(**one_input))"
            ]
        },
        {
            "cell_type": "markdown",
            "id": "ecea6a3e",
            "metadata": {},
            "source": [
                "# Task"
            ]
        },
        {
            "cell_type": "markdown",
            "id": "db4d58c6",
            "metadata": {},
            "source": [
                "You are given 2 linear hyperspaces, each defined by 2 entities:\n",
                "- a vector that belongs to the hyperspace $\\mathbf x_0$\n",
                "- a set of direction vectors for this hyperspace $\\mathbf a_1, \\dots, \\mathbf a_K$ in form of column-matrix \n",
                "\n",
                "So that each of the hyperplanes is given by equation:\n",
                "\n",
                "$\\mathbf x_0 + \\sum_{k=1}^K \\alpha_k \\mathbf a_k = \\mathbf 0$\n",
                "\n",
                "Find distance between these hyperplanes."
            ]
        },
        {
            "cell_type": "code",
            "execution_count": null,
            "id": "af62102a",
            "metadata": {},
            "outputs": [],
            "source": [
                "def distance_to_hyperplane_3(A, x0, B, y0):\n",
                "    A = np.array(A)\n",
                "    x0 = np.array(x0)\n",
                "    B = np.array(B)\n",
                "    y0 = np.array(y0)\n",
                "    # If the subspaces intersect, the distance is zero\n",
                "    # Otherwise, find the minimal distance between points in the two affine subspaces\n",
                "    if A.size == 0 and B.size == 0:\n",
                "        # Both are points\n",
                "        res = np.linalg.norm(x0 - y0)\n",
                "    else:\n",
                "        # We want to minimize ||(x0 + A @ alpha) - (y0 + B @ beta)|| over alpha, beta\n",
                "        # This is a standard least squares problem:\n",
                "        # Let z = [alpha; beta], M = [A, -B], c = y0 - x0\n",
                "        # Minimize ||A*alpha - B*beta - (y0 - x0)|| = ||M @ z - c||\n",
                "        M = np.hstack([A, -B]) if (A.size > 0 and B.size > 0) else (A if A.size > 0 else -B)\n",
                "        c = y0 - x0\n",
                "        if M.size == 0:\n",
                "            # Both are points\n",
                "            perp = c\n",
                "        else:\n",
                "            z_hat = np.linalg.lstsq(M, c, rcond=None)[0]\n",
                "            proj = M @ z_hat\n",
                "            perp = c - proj\n",
                "        res = np.linalg.norm(perp)\n",
                "    return res"
            ]
        },
        {
            "cell_type": "code",
            "execution_count": null,
            "id": "97fb9e0d",
            "metadata": {},
            "outputs": [],
            "source": [
                "answer['task3'] = []\n",
                "for one_input in inputs['task3']:\n",
                "    answer['task3'].append(\n",
                "        distance_to_hyperplane_3(**one_input))"
            ]
        },
        {
            "cell_type": "code",
            "execution_count": null,
            "id": "3313eaf1",
            "metadata": {},
            "outputs": [
                {
                    "data": {
                        "text/plain": [
                            "'{\"task1\": [1.1611015532036637, 1.2169686348578783, 3.8171960993534175, 2.1577367083828145, 17.53449972356085, 13.749230523405476, 0.11441551070947108, 0.9750002110024923, 2.0481280123278074, 0.4178554470186725, 7.299732493572025, 5.405127802564358, 2.0541374149458744, 6.71079347281296, 3.03653640842388, 9.498185286556286, 3.7630890450319083, 1.8641906049463526, 10.670770020027398, 5.291772589866002, 0.912245460839306, 0.20732586478679277, 12.816310409006174, 1.6373225835853016, 6.291571550369559, 20.239709319388293, 16.466083091274903, 13.474719001142073, 5.2761044442380856, 0.7250110520819842, 4.519523979103389, 4.225904366704887, 4.775521858228876, 13.912436341952132, 7.24644943484495, 9.313787360469487, 1.0596535411727601, 5.682048493486052, 4.5807379490262905, 3.3300869947532497, 5.307227776030219, 5.6272294256742645, 4.913975701062781, 4.802205375719392, 6.501355432613329, 11.47165060247919, 1.1319709719592113, 4.803995448402746, 3.272807297357087, 15.777869833110813, 4.517699029348238, 0.17814530949575066, 3.5284844379917275, 5.934930515784213, 6.125013426408485, 8.159217498552128, 5.019810939931819, 0.408248290463863, 7.4957996896270505, 4.283283920775676, 0.2637521893583148, 2.049056675010037, 6.8132996874920275, 8.405557343559956, 2.999321190171195, 5.6285099470110636, 3.655702647879198, 2.0465731207219395, 5.879747322073336, 9.329263895676059, 3.139348229106255, 0.5607987647363063, 0.6950480468569159, 10.191007784407427, 4.568082535241728, 9.192388155425117, 1.0021428596001425, 12.690431782391386, 7.765802747153207, 3.212717121212626, 4.218792040149278, 3.5777087639996634, 0.769800358919501, 0.8945002144062506, 5.085382100797452, 6.804547614641353, 6.163512150222625, 2.914609664251715, 7.816784172767301, 0.46205845409189783, 12.28312270520947, 2.0787069844672015, 19.79524821394902, 8.642489395470479, 9.065168465359845, 6.214172255980044, 6.830992648790024, 8.546023022424297, 7.3876871941035835, 0.16442642142942065], \"task2\": [29.629844392546186, 21.271746037577156, 39.16757069551348, 42.51326464355224, 25.824123847066797, 34.73198427198685, 21.55885231720954, 33.37216354216304, 11.67259342019464, 16.00268923632796, 43.12657326792425, 34.21997853404909, 20.888216691870173, 12.78829382523857, 27.740498610723492, 60.284583447604156, 47.813115009167674, 39.20795949308538, 44.99855363308826, 50.86446402302331, 38.83116116404722, 59.392957484403, 25.413911491336084, 71.75945843853158, 22.96760635960924, 38.847317840059304, 49.72540443722251, 13.25572652532805, 46.97814442596343, 59.34613863761029, 30.025694421014332, 28.48730655364451, 11.630961036030865, 44.00182121996451, 50.82957069220026, 26.300703285972848, 28.636776340207483, 26.64458362899459, 17.962237685763508, 79.26970361214435, 37.71746977588836, 42.45943959519047, 31.750440692451114, 54.19201835801993, 37.18292776267721, 31.233139161747935, 10.094938929963202, 11.407907383792741, 67.0280759933574, 13.732450981215983, 46.14089935983624, 27.233694468304314, 13.353611495921026, 31.34003212071138, 23.560117002291232, 10.784098036359472, 52.597953935085314, 26.188089983639525, 24.203237376117926, 32.17096440245891, 60.342927225129074, 14.150821189505969, 21.34959611292726, 59.81487266684482, 53.61417093306553, 19.769416442436164, 57.50189702547936, 47.79943428631007, 56.56370997403237, 28.088648956083066, 41.14633980228737, 60.33677082915871, 50.780644945666296, 20.68160291420012, 58.59364732196159, 30.717947765057914, 18.29047178467362, 40.40300486527525, 38.883832737126845, 33.543949317442326, 36.075039855631275, 45.403029848286224, 14.018547893393599, 13.003710284704976, 34.480909699518236, 53.84230367340939, 38.769572339816506, 63.14959329256112, 63.49028812855116, 46.3663100485238, 30.669196636966724, 37.70090641078936, 74.26595232040428, 44.22673034873904, 47.638730579388145, 93.14152630609834, 42.01841386689153, 50.06499042492482, 28.87958412285847, 60.53936925942109], \"task3\": [2.1122183429106942e-13, 9.862199882271803, 1.1027785841179302e-13, 1.1211493641615366e-13, 18.606023825206282, 33.24915572374668, 1.3609508539867176e-11, 18.40289500268918, 1.2947314098277874e-14, 1.912547258430499, 1.440309749450785e-13, 2.4192576183119306e-13, 20.840703895585982, 7.161012785601342, 6.649040327810365e-14, 2.2187439106676355e-13, 3.5281008188613656e-13, 36.06229398043926, 31.950108055155233, 49.47766743961915, 1.5363625480594354e-13, 2.863645489505748e-13, 20.984993129103437, 71.35866023973709, 21.938252459321024, 22.605388863116378, 2.291988598825421e-13, 7.469680838314457e-14, 10.166708080096766, 27.58279554223525, 1.1837941398077473e-13, 15.36841043207832, 1.3769003676285677e-14, 37.03922205558273, 16.795264352028408, 1.1135815042724844e-13, 23.484801523812955, 9.576901190105147e-14, 2.843991819405286e-14, 58.568968367613884, 2.8923123169940623e-13, 26.89993819315885, 1.0700453687875553e-13, 29.268487639882366, 1.6588196104206665e-13, 1.0799312478373599e-13, 1.3459745237294928e-13, 11.153330266284868, 37.900679598009546, 6.69356766979263e-14, 8.646388404613408e-13, 8.590916955727998e-14, 2.2255250618771463e-13, 7.338372636656495e-14, 4.681311697222921e-14, 2.9273751785359036e-14, 3.680811120229995e-13, 24.681259935404903, 8.431623096298483e-14, 1.6688252130192513e-13, 24.783910392622094, 6.545402677105092e-14, 2.3419127745390273e-14, 2.227479068017839e-13, 30.922796070107246, 7.297808073566519e-14, 33.18140357416192, 40.57698323504672, 47.06869032581552, 23.105060836853266, 12.57135391807007, 55.42047170103875, 46.69306616507825, 1.6287565847038336e-13, 27.453599485296902, 1.2345187063001645e-13, 2.4669475381307154e-13, 1.2558109795948986e-13, 37.41521304938291, 25.446553396419198, 1.9375333180973257e-13, 2.252994871678064e-13, 12.824232991262061, 6.313099483140478e-14, 1.4516572092629447e-13, 51.925188034601746, 3.041392905966216e-13, 1.566006471725605e-13, 46.76862945669892, 43.45257317445118, 5.764966018675016e-14, 33.753945623852296, 68.70629065757944, 1.5375122134322172e-13, 37.87654183593753, 91.5601945551715, 30.96534964529871, 2.8163417224909876e-13, 9.121966941283921e-14, 41.15009714892568]}'"
                        ]
                    },
                    "execution_count": 16,
                    "metadata": {},
                    "output_type": "execute_result"
                }
            ],
            "source": [
                "json_tricks.dump(answer, '.answer.json')"
            ]
        }
    ],
    "metadata": {
        "kernelspec": {
            "display_name": "Python (Container)",
            "language": "python",
            "name": "container_env"
        },
        "language_info": {
            "codemirror_mode": {
                "name": "ipython",
                "version": 3
            },
            "file_extension": ".py",
            "mimetype": "text/x-python",
            "name": "python",
            "nbconvert_exporter": "python",
            "pygments_lexer": "ipython3",
            "version": "3.11.13"
        }
    },
    "nbformat": 4,
    "nbformat_minor": 5
}
